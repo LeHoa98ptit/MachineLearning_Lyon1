{
 "cells": [
  {
   "cell_type": "markdown",
   "id": "c3868b0f-9cfa-4498-93db-d902cb8686cf",
   "metadata": {},
   "source": [
    "### Import the standard libraries"
   ]
  },
  {
   "cell_type": "code",
   "execution_count": 1,
   "id": "7b3d73dc-2b0f-48af-b334-9c5e043f9c1b",
   "metadata": {},
   "outputs": [],
   "source": [
    "import pandas as pd \n",
    "import numpy as np \n",
    "from matplotlib import pyplot as plt \n",
    "import seaborn as sns \n",
    "import warnings \n",
    "warnings.filterwarnings('ignore')"
   ]
  },
  {
   "cell_type": "code",
   "execution_count": 83,
   "id": "f480aa4b-ecd4-4daf-b479-f8cc1714837c",
   "metadata": {},
   "outputs": [
    {
     "data": {
      "text/html": [
       "<div>\n",
       "<style scoped>\n",
       "    .dataframe tbody tr th:only-of-type {\n",
       "        vertical-align: middle;\n",
       "    }\n",
       "\n",
       "    .dataframe tbody tr th {\n",
       "        vertical-align: top;\n",
       "    }\n",
       "\n",
       "    .dataframe thead th {\n",
       "        text-align: right;\n",
       "    }\n",
       "</style>\n",
       "<table border=\"1\" class=\"dataframe\">\n",
       "  <thead>\n",
       "    <tr style=\"text-align: right;\">\n",
       "      <th></th>\n",
       "      <th>Mileage</th>\n",
       "      <th>Age</th>\n",
       "      <th>Brand</th>\n",
       "      <th>Horsepower</th>\n",
       "      <th>Price</th>\n",
       "      <th>Accidents_History</th>\n",
       "      <th>Last_Service_Date</th>\n",
       "      <th>ID</th>\n",
       "    </tr>\n",
       "  </thead>\n",
       "  <tbody>\n",
       "    <tr>\n",
       "      <th>0</th>\n",
       "      <td>4307.854178</td>\n",
       "      <td>4.843951</td>\n",
       "      <td>BMW</td>\n",
       "      <td>246.315008</td>\n",
       "      <td>17072.488092</td>\n",
       "      <td>1</td>\n",
       "      <td>2020-10-31</td>\n",
       "      <td>1350</td>\n",
       "    </tr>\n",
       "    <tr>\n",
       "      <th>1</th>\n",
       "      <td>52160.653567</td>\n",
       "      <td>1.452421</td>\n",
       "      <td>ford</td>\n",
       "      <td>182.782369</td>\n",
       "      <td>17351.677402</td>\n",
       "      <td>1</td>\n",
       "      <td>2022-12-27</td>\n",
       "      <td>2684</td>\n",
       "    </tr>\n",
       "    <tr>\n",
       "      <th>2</th>\n",
       "      <td>42237.214362</td>\n",
       "      <td>5.673198</td>\n",
       "      <td>BMW</td>\n",
       "      <td>22.188980</td>\n",
       "      <td>9203.644481</td>\n",
       "      <td>3</td>\n",
       "      <td>NaN</td>\n",
       "      <td>3201</td>\n",
       "    </tr>\n",
       "    <tr>\n",
       "      <th>3</th>\n",
       "      <td>58520.110388</td>\n",
       "      <td>2.806898</td>\n",
       "      <td>NaN</td>\n",
       "      <td>155.824358</td>\n",
       "      <td>11785.969236</td>\n",
       "      <td>0</td>\n",
       "      <td>2022-08-26</td>\n",
       "      <td>1332</td>\n",
       "    </tr>\n",
       "    <tr>\n",
       "      <th>4</th>\n",
       "      <td>60376.767928</td>\n",
       "      <td>3.599798</td>\n",
       "      <td>Ford</td>\n",
       "      <td>155.421041</td>\n",
       "      <td>14663.608320</td>\n",
       "      <td>3</td>\n",
       "      <td>2021-12-22</td>\n",
       "      <td>2724</td>\n",
       "    </tr>\n",
       "  </tbody>\n",
       "</table>\n",
       "</div>"
      ],
      "text/plain": [
       "        Mileage       Age Brand  Horsepower         Price  Accidents_History  \\\n",
       "0   4307.854178  4.843951   BMW  246.315008  17072.488092                  1   \n",
       "1  52160.653567  1.452421  ford  182.782369  17351.677402                  1   \n",
       "2  42237.214362  5.673198   BMW   22.188980   9203.644481                  3   \n",
       "3  58520.110388  2.806898   NaN  155.824358  11785.969236                  0   \n",
       "4  60376.767928  3.599798  Ford  155.421041  14663.608320                  3   \n",
       "\n",
       "  Last_Service_Date    ID  \n",
       "0        2020-10-31  1350  \n",
       "1        2022-12-27  2684  \n",
       "2               NaN  3201  \n",
       "3        2022-08-26  1332  \n",
       "4        2021-12-22  2724  "
      ]
     },
     "execution_count": 83,
     "metadata": {},
     "output_type": "execute_result"
    }
   ],
   "source": [
    "# read data\n",
    "data_challenge_train = pd.read_csv('challenge_train.csv')\n",
    "data_challenge_train.head()"
   ]
  },
  {
   "cell_type": "code",
   "execution_count": 3,
   "id": "64183082-b8de-4ea9-acae-17c2130bc8d5",
   "metadata": {},
   "outputs": [
    {
     "data": {
      "text/html": [
       "<div>\n",
       "<style scoped>\n",
       "    .dataframe tbody tr th:only-of-type {\n",
       "        vertical-align: middle;\n",
       "    }\n",
       "\n",
       "    .dataframe tbody tr th {\n",
       "        vertical-align: top;\n",
       "    }\n",
       "\n",
       "    .dataframe thead th {\n",
       "        text-align: right;\n",
       "    }\n",
       "</style>\n",
       "<table border=\"1\" class=\"dataframe\">\n",
       "  <thead>\n",
       "    <tr style=\"text-align: right;\">\n",
       "      <th></th>\n",
       "      <th>Mileage</th>\n",
       "      <th>Age</th>\n",
       "      <th>Brand</th>\n",
       "      <th>Horsepower</th>\n",
       "      <th>Accidents_History</th>\n",
       "      <th>Last_Service_Date</th>\n",
       "      <th>ID</th>\n",
       "    </tr>\n",
       "  </thead>\n",
       "  <tbody>\n",
       "    <tr>\n",
       "      <th>0</th>\n",
       "      <td>55764.851078</td>\n",
       "      <td>8.818906</td>\n",
       "      <td>BMW</td>\n",
       "      <td>166.554774</td>\n",
       "      <td>1</td>\n",
       "      <td>2021-08-01</td>\n",
       "      <td>1622</td>\n",
       "    </tr>\n",
       "    <tr>\n",
       "      <th>1</th>\n",
       "      <td>53043.215667</td>\n",
       "      <td>6.230922</td>\n",
       "      <td>BMW</td>\n",
       "      <td>108.419204</td>\n",
       "      <td>1</td>\n",
       "      <td>2023-03-12</td>\n",
       "      <td>101</td>\n",
       "    </tr>\n",
       "    <tr>\n",
       "      <th>2</th>\n",
       "      <td>50782.476189</td>\n",
       "      <td>8.937179</td>\n",
       "      <td>Ford</td>\n",
       "      <td>171.856198</td>\n",
       "      <td>0</td>\n",
       "      <td>2022-01-20</td>\n",
       "      <td>3951</td>\n",
       "    </tr>\n",
       "    <tr>\n",
       "      <th>3</th>\n",
       "      <td>60632.893631</td>\n",
       "      <td>7.080065</td>\n",
       "      <td>Ford</td>\n",
       "      <td>136.408591</td>\n",
       "      <td>0</td>\n",
       "      <td>2021-12-18</td>\n",
       "      <td>397</td>\n",
       "    </tr>\n",
       "    <tr>\n",
       "      <th>4</th>\n",
       "      <td>11881.417885</td>\n",
       "      <td>0.698784</td>\n",
       "      <td>Toyota</td>\n",
       "      <td>147.636385</td>\n",
       "      <td>1</td>\n",
       "      <td>2021-02-22</td>\n",
       "      <td>4945</td>\n",
       "    </tr>\n",
       "  </tbody>\n",
       "</table>\n",
       "</div>"
      ],
      "text/plain": [
       "        Mileage       Age   Brand  Horsepower  Accidents_History  \\\n",
       "0  55764.851078  8.818906     BMW  166.554774                  1   \n",
       "1  53043.215667  6.230922     BMW  108.419204                  1   \n",
       "2  50782.476189  8.937179    Ford  171.856198                  0   \n",
       "3  60632.893631  7.080065    Ford  136.408591                  0   \n",
       "4  11881.417885  0.698784  Toyota  147.636385                  1   \n",
       "\n",
       "  Last_Service_Date    ID  \n",
       "0        2021-08-01  1622  \n",
       "1        2023-03-12   101  \n",
       "2        2022-01-20  3951  \n",
       "3        2021-12-18   397  \n",
       "4        2021-02-22  4945  "
      ]
     },
     "execution_count": 3,
     "metadata": {},
     "output_type": "execute_result"
    }
   ],
   "source": [
    "data_challenge_test = pd.read_csv('challenge_test.csv')\n",
    "data_challenge_test.head()"
   ]
  },
  {
   "cell_type": "markdown",
   "id": "e9dc7cd0-7024-4f78-b56c-09fcc2f49ab5",
   "metadata": {},
   "source": [
    "### Preprocessing \n",
    "- In the data preprocessing, we first examined the shape of the data to understand its dimensions \n",
    "- Next, we checked for null values in the dataset and removed them if any were found \n",
    "- Additionally, we performed a check for duplicate values and replaced them to ensure data integrity \n",
    "- To gain insights into the relationships between variables, we visualized the correlation map using a heatmap. This visualization allowed us to identify patterns and dependencies among the feature in the dataset, helping us understand the interplay between various attribute \n"
   ]
  },
  {
   "cell_type": "code",
   "execution_count": 4,
   "id": "ecf199ab-7ec9-4a2d-aef4-63af08556555",
   "metadata": {},
   "outputs": [
    {
     "data": {
      "text/plain": [
       "Index(['Mileage', 'Age', 'Brand', 'Horsepower', 'Price', 'Accidents_History',\n",
       "       'Last_Service_Date', 'ID'],\n",
       "      dtype='object')"
      ]
     },
     "execution_count": 4,
     "metadata": {},
     "output_type": "execute_result"
    }
   ],
   "source": [
    "# check shape of the data\n",
    "data_challenge_train.columns"
   ]
  },
  {
   "cell_type": "code",
   "execution_count": 5,
   "id": "655e8f02-0dd0-4c70-837e-6d4a6d771bd7",
   "metadata": {},
   "outputs": [
    {
     "name": "stdout",
     "output_type": "stream",
     "text": [
      "The shape of the data: 2000 rows and 8 columns\n"
     ]
    }
   ],
   "source": [
    "sh = data_challenge_train.shape\n",
    "print(f'The shape of the data: {sh[0]} rows and {sh[1]} columns')"
   ]
  },
  {
   "cell_type": "code",
   "execution_count": 6,
   "id": "276f553f-9e5f-479d-8b00-94f947e22f4e",
   "metadata": {},
   "outputs": [
    {
     "name": "stdout",
     "output_type": "stream",
     "text": [
      "<class 'pandas.core.frame.DataFrame'>\n",
      "RangeIndex: 2000 entries, 0 to 1999\n",
      "Data columns (total 8 columns):\n",
      " #   Column             Non-Null Count  Dtype  \n",
      "---  ------             --------------  -----  \n",
      " 0   Mileage            2000 non-null   float64\n",
      " 1   Age                1933 non-null   float64\n",
      " 2   Brand              1921 non-null   object \n",
      " 3   Horsepower         2000 non-null   float64\n",
      " 4   Price              2000 non-null   float64\n",
      " 5   Accidents_History  2000 non-null   int64  \n",
      " 6   Last_Service_Date  1925 non-null   object \n",
      " 7   ID                 2000 non-null   int64  \n",
      "dtypes: float64(4), int64(2), object(2)\n",
      "memory usage: 125.1+ KB\n"
     ]
    }
   ],
   "source": [
    "# The basic information of data\n",
    "data_challenge_train.info()"
   ]
  },
  {
   "cell_type": "code",
   "execution_count": 7,
   "id": "edffc4bb-7f49-4f5e-b46a-8be34f6d35cc",
   "metadata": {},
   "outputs": [
    {
     "data": {
      "text/html": [
       "<style type=\"text/css\">\n",
       "#T_78930_row0_col0 {\n",
       "  background-color: #8294a1;\n",
       "  color: #f1f1f1;\n",
       "}\n",
       "#T_78930_row0_col1, #T_78930_row0_col2, #T_78930_row0_col4, #T_78930_row7_col0, #T_78930_row7_col3, #T_78930_row7_col5 {\n",
       "  background-color: #000000;\n",
       "  color: #f1f1f1;\n",
       "}\n",
       "#T_78930_row0_col3 {\n",
       "  background-color: #e9f1f1;\n",
       "  color: #000000;\n",
       "}\n",
       "#T_78930_row0_col5 {\n",
       "  background-color: #b9d2d2;\n",
       "  color: #000000;\n",
       "}\n",
       "#T_78930_row1_col0 {\n",
       "  background-color: #494966;\n",
       "  color: #f1f1f1;\n",
       "}\n",
       "#T_78930_row1_col1, #T_78930_row1_col4, #T_78930_row2_col1, #T_78930_row2_col4, #T_78930_row3_col0, #T_78930_row3_col1, #T_78930_row3_col2, #T_78930_row3_col3, #T_78930_row3_col4, #T_78930_row3_col5, #T_78930_row4_col1, #T_78930_row4_col4, #T_78930_row5_col1, #T_78930_row5_col4, #T_78930_row6_col1, #T_78930_row6_col4, #T_78930_row7_col4 {\n",
       "  background-color: #ffffff;\n",
       "  color: #000000;\n",
       "}\n",
       "#T_78930_row1_col2, #T_78930_row5_col2 {\n",
       "  background-color: #c1d8d8;\n",
       "  color: #000000;\n",
       "}\n",
       "#T_78930_row1_col3 {\n",
       "  background-color: #b5d0d0;\n",
       "  color: #000000;\n",
       "}\n",
       "#T_78930_row1_col5 {\n",
       "  background-color: #707b90;\n",
       "  color: #f1f1f1;\n",
       "}\n",
       "#T_78930_row2_col0 {\n",
       "  background-color: #6a738a;\n",
       "  color: #f1f1f1;\n",
       "}\n",
       "#T_78930_row2_col2 {\n",
       "  background-color: #cee0df;\n",
       "  color: #000000;\n",
       "}\n",
       "#T_78930_row2_col3, #T_78930_row4_col2, #T_78930_row4_col3 {\n",
       "  background-color: #c7dbdb;\n",
       "  color: #000000;\n",
       "}\n",
       "#T_78930_row2_col5 {\n",
       "  background-color: #9ebbbe;\n",
       "  color: #000000;\n",
       "}\n",
       "#T_78930_row4_col0 {\n",
       "  background-color: #545574;\n",
       "  color: #f1f1f1;\n",
       "}\n",
       "#T_78930_row4_col5, #T_78930_row7_col2 {\n",
       "  background-color: #aac9c9;\n",
       "  color: #000000;\n",
       "}\n",
       "#T_78930_row5_col0 {\n",
       "  background-color: #474763;\n",
       "  color: #f1f1f1;\n",
       "}\n",
       "#T_78930_row5_col3 {\n",
       "  background-color: #b8d2d1;\n",
       "  color: #000000;\n",
       "}\n",
       "#T_78930_row5_col5 {\n",
       "  background-color: #738093;\n",
       "  color: #f1f1f1;\n",
       "}\n",
       "#T_78930_row6_col0 {\n",
       "  background-color: #3b3b52;\n",
       "  color: #f1f1f1;\n",
       "}\n",
       "#T_78930_row6_col2 {\n",
       "  background-color: #bcd4d4;\n",
       "  color: #000000;\n",
       "}\n",
       "#T_78930_row6_col3 {\n",
       "  background-color: #accaca;\n",
       "  color: #000000;\n",
       "}\n",
       "#T_78930_row6_col5 {\n",
       "  background-color: #36364b;\n",
       "  color: #f1f1f1;\n",
       "}\n",
       "#T_78930_row7_col1 {\n",
       "  background-color: #fefefe;\n",
       "  color: #000000;\n",
       "}\n",
       "</style>\n",
       "<table id=\"T_78930\">\n",
       "  <thead>\n",
       "    <tr>\n",
       "      <th class=\"blank level0\" >&nbsp;</th>\n",
       "      <th id=\"T_78930_level0_col0\" class=\"col_heading level0 col0\" >Mileage</th>\n",
       "      <th id=\"T_78930_level0_col1\" class=\"col_heading level0 col1\" >Age</th>\n",
       "      <th id=\"T_78930_level0_col2\" class=\"col_heading level0 col2\" >Horsepower</th>\n",
       "      <th id=\"T_78930_level0_col3\" class=\"col_heading level0 col3\" >Price</th>\n",
       "      <th id=\"T_78930_level0_col4\" class=\"col_heading level0 col4\" >Accidents_History</th>\n",
       "      <th id=\"T_78930_level0_col5\" class=\"col_heading level0 col5\" >ID</th>\n",
       "    </tr>\n",
       "  </thead>\n",
       "  <tbody>\n",
       "    <tr>\n",
       "      <th id=\"T_78930_level0_row0\" class=\"row_heading level0 row0\" >count</th>\n",
       "      <td id=\"T_78930_row0_col0\" class=\"data row0 col0\" >2000.000000</td>\n",
       "      <td id=\"T_78930_row0_col1\" class=\"data row0 col1\" >1933.000000</td>\n",
       "      <td id=\"T_78930_row0_col2\" class=\"data row0 col2\" >2000.000000</td>\n",
       "      <td id=\"T_78930_row0_col3\" class=\"data row0 col3\" >2000.000000</td>\n",
       "      <td id=\"T_78930_row0_col4\" class=\"data row0 col4\" >2000.000000</td>\n",
       "      <td id=\"T_78930_row0_col5\" class=\"data row0 col5\" >2000.000000</td>\n",
       "    </tr>\n",
       "    <tr>\n",
       "      <th id=\"T_78930_level0_row1\" class=\"row_heading level0 row1\" >mean</th>\n",
       "      <td id=\"T_78930_row1_col0\" class=\"data row1 col0\" >47371.271244</td>\n",
       "      <td id=\"T_78930_row1_col1\" class=\"data row1 col1\" >4.901168</td>\n",
       "      <td id=\"T_78930_row1_col2\" class=\"data row1 col2\" >140.571945</td>\n",
       "      <td id=\"T_78930_row1_col3\" class=\"data row1 col3\" >16286.915618</td>\n",
       "      <td id=\"T_78930_row1_col4\" class=\"data row1 col4\" >0.511000</td>\n",
       "      <td id=\"T_78930_row1_col5\" class=\"data row1 col5\" >4970.844000</td>\n",
       "    </tr>\n",
       "    <tr>\n",
       "      <th id=\"T_78930_level0_row2\" class=\"row_heading level0 row2\" >std</th>\n",
       "      <td id=\"T_78930_row2_col0\" class=\"data row2 col0\" >21094.525714</td>\n",
       "      <td id=\"T_78930_row2_col1\" class=\"data row2 col1\" >2.890400</td>\n",
       "      <td id=\"T_78930_row2_col2\" class=\"data row2 col2\" >67.811117</td>\n",
       "      <td id=\"T_78930_row2_col3\" class=\"data row2 col3\" >11201.085165</td>\n",
       "      <td id=\"T_78930_row2_col4\" class=\"data row2 col4\" >0.706490</td>\n",
       "      <td id=\"T_78930_row2_col5\" class=\"data row2 col5\" >2915.969163</td>\n",
       "    </tr>\n",
       "    <tr>\n",
       "      <th id=\"T_78930_level0_row3\" class=\"row_heading level0 row3\" >min</th>\n",
       "      <td id=\"T_78930_row3_col0\" class=\"data row3 col0\" >-74007.968084</td>\n",
       "      <td id=\"T_78930_row3_col1\" class=\"data row3 col1\" >0.007267</td>\n",
       "      <td id=\"T_78930_row3_col2\" class=\"data row3 col2\" >-257.937259</td>\n",
       "      <td id=\"T_78930_row3_col3\" class=\"data row3 col3\" >-4234.207009</td>\n",
       "      <td id=\"T_78930_row3_col4\" class=\"data row3 col4\" >0.000000</td>\n",
       "      <td id=\"T_78930_row3_col5\" class=\"data row3 col5\" >4.000000</td>\n",
       "    </tr>\n",
       "    <tr>\n",
       "      <th id=\"T_78930_level0_row4\" class=\"row_heading level0 row4\" >25%</th>\n",
       "      <td id=\"T_78930_row4_col0\" class=\"data row4 col0\" >38666.978977</td>\n",
       "      <td id=\"T_78930_row4_col1\" class=\"data row4 col1\" >2.348844</td>\n",
       "      <td id=\"T_78930_row4_col2\" class=\"data row4 col2\" >109.931002</td>\n",
       "      <td id=\"T_78930_row4_col3\" class=\"data row4 col3\" >11464.115851</td>\n",
       "      <td id=\"T_78930_row4_col4\" class=\"data row4 col4\" >0.000000</td>\n",
       "      <td id=\"T_78930_row4_col5\" class=\"data row4 col5\" >2461.750000</td>\n",
       "    </tr>\n",
       "    <tr>\n",
       "      <th id=\"T_78930_level0_row5\" class=\"row_heading level0 row5\" >50%</th>\n",
       "      <td id=\"T_78930_row5_col0\" class=\"data row5 col0\" >49345.990091</td>\n",
       "      <td id=\"T_78930_row5_col1\" class=\"data row5 col1\" >4.843951</td>\n",
       "      <td id=\"T_78930_row5_col2\" class=\"data row5 col2\" >144.027053</td>\n",
       "      <td id=\"T_78930_row5_col3\" class=\"data row5 col3\" >15396.886224</td>\n",
       "      <td id=\"T_78930_row5_col4\" class=\"data row5 col4\" >0.000000</td>\n",
       "      <td id=\"T_78930_row5_col5\" class=\"data row5 col5\" >4816.500000</td>\n",
       "    </tr>\n",
       "    <tr>\n",
       "      <th id=\"T_78930_level0_row6\" class=\"row_heading level0 row6\" >75%</th>\n",
       "      <td id=\"T_78930_row6_col0\" class=\"data row6 col0\" >59000.476654</td>\n",
       "      <td id=\"T_78930_row6_col1\" class=\"data row6 col1\" >7.439484</td>\n",
       "      <td id=\"T_78930_row6_col2\" class=\"data row6 col2\" >180.082763</td>\n",
       "      <td id=\"T_78930_row6_col3\" class=\"data row6 col3\" >18697.747795</td>\n",
       "      <td id=\"T_78930_row6_col4\" class=\"data row6 col4\" >1.000000</td>\n",
       "      <td id=\"T_78930_row6_col5\" class=\"data row6 col5\" >7543.750000</td>\n",
       "    </tr>\n",
       "    <tr>\n",
       "      <th id=\"T_78930_level0_row7\" class=\"row_heading level0 row7\" >max</th>\n",
       "      <td id=\"T_78930_row7_col0\" class=\"data row7 col0\" >107024.903225</td>\n",
       "      <td id=\"T_78930_row7_col1\" class=\"data row7 col1\" >9.999566</td>\n",
       "      <td id=\"T_78930_row7_col2\" class=\"data row7 col2\" >295.591933</td>\n",
       "      <td id=\"T_78930_row7_col3\" class=\"data row7 col3\" >91450.965098</td>\n",
       "      <td id=\"T_78930_row7_col4\" class=\"data row7 col4\" >4.000000</td>\n",
       "      <td id=\"T_78930_row7_col5\" class=\"data row7 col5\" >9997.000000</td>\n",
       "    </tr>\n",
       "  </tbody>\n",
       "</table>\n"
      ],
      "text/plain": [
       "<pandas.io.formats.style.Styler at 0x11dd5cb50>"
      ]
     },
     "execution_count": 7,
     "metadata": {},
     "output_type": "execute_result"
    }
   ],
   "source": [
    "# Basic Statistic of data set\n",
    "data_challenge_train.describe().style.background_gradient('bone_r')"
   ]
  },
  {
   "cell_type": "code",
   "execution_count": 8,
   "id": "4625fd7a-98db-4df2-b505-24537c7a55a0",
   "metadata": {},
   "outputs": [
    {
     "name": "stdout",
     "output_type": "stream",
     "text": [
      "% missing value in each column\n",
      "Mileage              0.00\n",
      "Age                  3.35\n",
      "Brand                3.95\n",
      "Horsepower           0.00\n",
      "Price                0.00\n",
      "Accidents_History    0.00\n",
      "Last_Service_Date    3.75\n",
      "ID                   0.00\n",
      "dtype: float64\n"
     ]
    }
   ],
   "source": [
    "# checking the null values of the data set\n",
    "sum_na = data_challenge_train.isna().sum()/len(data_challenge_train)*100\n",
    "print('% missing value in each column')\n",
    "print(sum_na)"
   ]
  },
  {
   "cell_type": "code",
   "execution_count": 76,
   "id": "09f10fee-acde-4c24-a7ee-4951bda6eb8c",
   "metadata": {},
   "outputs": [
    {
     "ename": "AttributeError",
     "evalue": "'numpy.ndarray' object has no attribute 'head'",
     "output_type": "error",
     "traceback": [
      "\u001b[0;31m---------------------------------------------------------------------------\u001b[0m",
      "\u001b[0;31mAttributeError\u001b[0m                            Traceback (most recent call last)",
      "Cell \u001b[0;32mIn[76], line 8\u001b[0m\n\u001b[1;32m      6\u001b[0m imputer \u001b[38;5;241m=\u001b[39m KNNImputer(n_neighbors\u001b[38;5;241m=\u001b[39m\u001b[38;5;241m5\u001b[39m)\n\u001b[1;32m      7\u001b[0m X_imputed \u001b[38;5;241m=\u001b[39m imputer\u001b[38;5;241m.\u001b[39mfit_transform(data_challenge_train)\n\u001b[0;32m----> 8\u001b[0m \u001b[43mX_imputed\u001b[49m\u001b[38;5;241;43m.\u001b[39;49m\u001b[43mhead\u001b[49m()\n\u001b[1;32m      9\u001b[0m \u001b[38;5;66;03m#data_challenge_train1 = data_challenge_train.dropna()\u001b[39;00m\n\u001b[1;32m     10\u001b[0m \u001b[38;5;66;03m#data_challenge_train1.isna().sum()\u001b[39;00m\n",
      "\u001b[0;31mAttributeError\u001b[0m: 'numpy.ndarray' object has no attribute 'head'"
     ]
    }
   ],
   "source": [
    "# drop missing values \n",
    "from sklearn.impute import KNNImputer\n",
    "\n",
    "data_challenge_train['Brand'] = data_challenge_train['Brand'].fillna('Unknown', inplace=True)\n",
    "data_challenge_train['Last_Service_Date'] = data_challenge_train['Last_Service_Date'].fillna('Unknown', inplace=True)\n",
    "imputer = KNNImputer(n_neighbors=5)\n",
    "X_imputed = imputer.fit_transform(data_challenge_train)\n",
    "#data_challenge_train1 = data_challenge_train.dropna()\n",
    "#data_challenge_train1.isna().sum()"
   ]
  },
  {
   "cell_type": "code",
   "execution_count": 10,
   "id": "3391fe0c-d422-4049-adae-0e52b75439c3",
   "metadata": {},
   "outputs": [
    {
     "name": "stdout",
     "output_type": "stream",
     "text": [
      "The dataset contains 0 duplicate values\n"
     ]
    }
   ],
   "source": [
    "# Checking the duplicate values in the data\n",
    "sum_duplicate = data_challenge_train.duplicated().sum()\n",
    "print(f'The dataset contains {sum_duplicate} duplicate values')"
   ]
  },
  {
   "cell_type": "code",
   "execution_count": 11,
   "id": "e1a76218-9792-47d3-8fa4-8515aa172da4",
   "metadata": {},
   "outputs": [
    {
     "name": "stdout",
     "output_type": "stream",
     "text": [
      "The dataset contains 2000 rows and 8 columns\n"
     ]
    }
   ],
   "source": [
    "# The shape of data after drop missing value \n",
    "print(f'The dataset contains {data_challenge_train.shape[0]} rows and {data_challenge_train.shape[1]} columns')"
   ]
  },
  {
   "cell_type": "markdown",
   "id": "eeb79e93-2d4b-4556-9e57-267288ac3d0c",
   "metadata": {},
   "source": [
    "### About the DataSet \n",
    "- Data Size: The dataset contains 1785 rows and 8 columns \n",
    "- Data Types: The data contains features with data types int64, Object\n",
    "- Missing values: 3 columns has missing values in the dataset, we droped missing value\n",
    "  Duplicate values: No duplicate values \n",
    "- Irrelevant Features: All the features seems important and useful for final evaluation\n"
   ]
  },
  {
   "cell_type": "code",
   "execution_count": 12,
   "id": "3b9e9516-5d28-48dc-8b65-20d492e10345",
   "metadata": {},
   "outputs": [
    {
     "data": {
      "text/html": [
       "<div>\n",
       "<style scoped>\n",
       "    .dataframe tbody tr th:only-of-type {\n",
       "        vertical-align: middle;\n",
       "    }\n",
       "\n",
       "    .dataframe tbody tr th {\n",
       "        vertical-align: top;\n",
       "    }\n",
       "\n",
       "    .dataframe thead th {\n",
       "        text-align: right;\n",
       "    }\n",
       "</style>\n",
       "<table border=\"1\" class=\"dataframe\">\n",
       "  <thead>\n",
       "    <tr style=\"text-align: right;\">\n",
       "      <th></th>\n",
       "      <th>Mileage</th>\n",
       "      <th>Age</th>\n",
       "      <th>Brand</th>\n",
       "      <th>Horsepower</th>\n",
       "      <th>Price</th>\n",
       "      <th>Accidents_History</th>\n",
       "      <th>Last_Service_Date</th>\n",
       "      <th>ID</th>\n",
       "    </tr>\n",
       "  </thead>\n",
       "  <tbody>\n",
       "    <tr>\n",
       "      <th>0</th>\n",
       "      <td>4307.854178</td>\n",
       "      <td>4.843951</td>\n",
       "      <td>BMW</td>\n",
       "      <td>246.315008</td>\n",
       "      <td>17072.488092</td>\n",
       "      <td>1</td>\n",
       "      <td>2020-10-31</td>\n",
       "      <td>1350</td>\n",
       "    </tr>\n",
       "    <tr>\n",
       "      <th>1</th>\n",
       "      <td>52160.653567</td>\n",
       "      <td>1.452421</td>\n",
       "      <td>ford</td>\n",
       "      <td>182.782369</td>\n",
       "      <td>17351.677402</td>\n",
       "      <td>1</td>\n",
       "      <td>2022-12-27</td>\n",
       "      <td>2684</td>\n",
       "    </tr>\n",
       "    <tr>\n",
       "      <th>2</th>\n",
       "      <td>42237.214362</td>\n",
       "      <td>5.673198</td>\n",
       "      <td>BMW</td>\n",
       "      <td>22.188980</td>\n",
       "      <td>9203.644481</td>\n",
       "      <td>3</td>\n",
       "      <td>NaN</td>\n",
       "      <td>3201</td>\n",
       "    </tr>\n",
       "    <tr>\n",
       "      <th>3</th>\n",
       "      <td>58520.110388</td>\n",
       "      <td>2.806898</td>\n",
       "      <td>NaN</td>\n",
       "      <td>155.824358</td>\n",
       "      <td>11785.969236</td>\n",
       "      <td>0</td>\n",
       "      <td>2022-08-26</td>\n",
       "      <td>1332</td>\n",
       "    </tr>\n",
       "    <tr>\n",
       "      <th>4</th>\n",
       "      <td>60376.767928</td>\n",
       "      <td>3.599798</td>\n",
       "      <td>Ford</td>\n",
       "      <td>155.421041</td>\n",
       "      <td>14663.608320</td>\n",
       "      <td>3</td>\n",
       "      <td>2021-12-22</td>\n",
       "      <td>2724</td>\n",
       "    </tr>\n",
       "  </tbody>\n",
       "</table>\n",
       "</div>"
      ],
      "text/plain": [
       "        Mileage       Age Brand  Horsepower         Price  Accidents_History  \\\n",
       "0   4307.854178  4.843951   BMW  246.315008  17072.488092                  1   \n",
       "1  52160.653567  1.452421  ford  182.782369  17351.677402                  1   \n",
       "2  42237.214362  5.673198   BMW   22.188980   9203.644481                  3   \n",
       "3  58520.110388  2.806898   NaN  155.824358  11785.969236                  0   \n",
       "4  60376.767928  3.599798  Ford  155.421041  14663.608320                  3   \n",
       "\n",
       "  Last_Service_Date    ID  \n",
       "0        2020-10-31  1350  \n",
       "1        2022-12-27  2684  \n",
       "2               NaN  3201  \n",
       "3        2022-08-26  1332  \n",
       "4        2021-12-22  2724  "
      ]
     },
     "execution_count": 12,
     "metadata": {},
     "output_type": "execute_result"
    }
   ],
   "source": [
    "data_challenge_train.head()"
   ]
  },
  {
   "cell_type": "code",
   "execution_count": 13,
   "id": "dc0421dd-79c2-4e64-b126-8a4fdb22cbff",
   "metadata": {},
   "outputs": [
    {
     "data": {
      "image/png": "[encoded data removed]",
      "text/plain": [
       "<Figure size 600x400 with 2 Axes>"
      ]
     },
     "metadata": {},
     "output_type": "display_data"
    }
   ],
   "source": [
    "# Visulaization the correlation heat map \n",
    "plt.figure(figsize=(6, 4))\n",
    "sns.heatmap(data_challenge_train1[['Mileage', 'Age', 'Horsepower', 'Accidents_History', 'Price']].corr(), \n",
    "            annot = True, \n",
    "            cmap = 'RdYlBu', \n",
    "            fmt = '.2f', \n",
    "            annot_kws = None, \n",
    "            linewidths = 1,)\n",
    "plt.show()"
   ]
  },
  {
   "cell_type": "markdown",
   "id": "f0823d97-294a-4f00-a065-47d009ce5e71",
   "metadata": {},
   "source": [
    "### Explore Data Analysis"
   ]
  },
  {
   "cell_type": "code",
   "execution_count": 14,
   "id": "28a5cccc-8d37-48bf-ab7d-f38556161745",
   "metadata": {},
   "outputs": [
    {
     "data": {
      "text/html": [
       "<div>\n",
       "<style scoped>\n",
       "    .dataframe tbody tr th:only-of-type {\n",
       "        vertical-align: middle;\n",
       "    }\n",
       "\n",
       "    .dataframe tbody tr th {\n",
       "        vertical-align: top;\n",
       "    }\n",
       "\n",
       "    .dataframe thead th {\n",
       "        text-align: right;\n",
       "    }\n",
       "</style>\n",
       "<table border=\"1\" class=\"dataframe\">\n",
       "  <thead>\n",
       "    <tr style=\"text-align: right;\">\n",
       "      <th></th>\n",
       "      <th>Mileage</th>\n",
       "      <th>Age</th>\n",
       "      <th>Brand</th>\n",
       "      <th>Horsepower</th>\n",
       "      <th>Price</th>\n",
       "      <th>Accidents_History</th>\n",
       "      <th>Last_Service_Date</th>\n",
       "      <th>ID</th>\n",
       "    </tr>\n",
       "  </thead>\n",
       "  <tbody>\n",
       "    <tr>\n",
       "      <th>0</th>\n",
       "      <td>4307.854178</td>\n",
       "      <td>4.843951</td>\n",
       "      <td>BMW</td>\n",
       "      <td>246.315008</td>\n",
       "      <td>17072.488092</td>\n",
       "      <td>1</td>\n",
       "      <td>2020-10-31</td>\n",
       "      <td>1350</td>\n",
       "    </tr>\n",
       "    <tr>\n",
       "      <th>1</th>\n",
       "      <td>52160.653567</td>\n",
       "      <td>1.452421</td>\n",
       "      <td>ford</td>\n",
       "      <td>182.782369</td>\n",
       "      <td>17351.677402</td>\n",
       "      <td>1</td>\n",
       "      <td>2022-12-27</td>\n",
       "      <td>2684</td>\n",
       "    </tr>\n",
       "    <tr>\n",
       "      <th>4</th>\n",
       "      <td>60376.767928</td>\n",
       "      <td>3.599798</td>\n",
       "      <td>Ford</td>\n",
       "      <td>155.421041</td>\n",
       "      <td>14663.608320</td>\n",
       "      <td>3</td>\n",
       "      <td>2021-12-22</td>\n",
       "      <td>2724</td>\n",
       "    </tr>\n",
       "    <tr>\n",
       "      <th>5</th>\n",
       "      <td>52299.327037</td>\n",
       "      <td>3.756751</td>\n",
       "      <td>Toyota</td>\n",
       "      <td>75.966754</td>\n",
       "      <td>16920.826431</td>\n",
       "      <td>0</td>\n",
       "      <td>2021-08-26</td>\n",
       "      <td>6744</td>\n",
       "    </tr>\n",
       "    <tr>\n",
       "      <th>6</th>\n",
       "      <td>56745.681503</td>\n",
       "      <td>7.550940</td>\n",
       "      <td>BMW</td>\n",
       "      <td>178.787873</td>\n",
       "      <td>5678.861498</td>\n",
       "      <td>1</td>\n",
       "      <td>2021-05-19</td>\n",
       "      <td>9743</td>\n",
       "    </tr>\n",
       "  </tbody>\n",
       "</table>\n",
       "</div>"
      ],
      "text/plain": [
       "        Mileage       Age   Brand  Horsepower         Price  \\\n",
       "0   4307.854178  4.843951     BMW  246.315008  17072.488092   \n",
       "1  52160.653567  1.452421    ford  182.782369  17351.677402   \n",
       "4  60376.767928  3.599798    Ford  155.421041  14663.608320   \n",
       "5  52299.327037  3.756751  Toyota   75.966754  16920.826431   \n",
       "6  56745.681503  7.550940     BMW  178.787873   5678.861498   \n",
       "\n",
       "   Accidents_History Last_Service_Date    ID  \n",
       "0                  1        2020-10-31  1350  \n",
       "1                  1        2022-12-27  2684  \n",
       "4                  3        2021-12-22  2724  \n",
       "5                  0        2021-08-26  6744  \n",
       "6                  1        2021-05-19  9743  "
      ]
     },
     "execution_count": 14,
     "metadata": {},
     "output_type": "execute_result"
    }
   ],
   "source": [
    "data_challenge_train1.head()"
   ]
  },
  {
   "cell_type": "code",
   "execution_count": 15,
   "id": "593c47c6-ce84-4477-9b89-2c4d38b8269b",
   "metadata": {},
   "outputs": [
    {
     "data": {
      "text/plain": [
       "<Figure size 1000x800 with 0 Axes>"
      ]
     },
     "metadata": {},
     "output_type": "display_data"
    },
    {
     "data": {
      "image/png": "[encoded data removed]",
      "text/plain": [
       "<Figure size 500x500 with 1 Axes>"
      ]
     },
     "metadata": {},
     "output_type": "display_data"
    }
   ],
   "source": [
    "# Distribution of Mileage \n",
    "plt.figure(figsize=(10, 8))\n",
    "sns.displot(data_challenge_train1['Mileage'], bins=50)\n",
    "plt.title('The Distribution of the Mileage')\n",
    "plt.show()"
   ]
  },
  {
   "cell_type": "code",
   "execution_count": 16,
   "id": "74ee6ba9-044a-4f52-a2ad-ce5cb2a2fe29",
   "metadata": {},
   "outputs": [
    {
     "data": {
      "image/png": "[encoded data removed]",
      "text/plain": [
       "<Figure size 800x600 with 1 Axes>"
      ]
     },
     "metadata": {},
     "output_type": "display_data"
    }
   ],
   "source": [
    "# The distribution of the Horsepower \n",
    "plt.figure(figsize=(8, 6))\n",
    "sns.histplot(data_challenge_train1['Horsepower'], bins=50)\n",
    "plt.title('The Distribution of the HorsePower')\n",
    "plt.show()"
   ]
  },
  {
   "cell_type": "code",
   "execution_count": 17,
   "id": "64060bcb-dae0-4999-ae6d-71f484e7eeac",
   "metadata": {},
   "outputs": [
    {
     "data": {
      "image/png": "[encoded data removed]",
      "text/plain": [
       "<Figure size 800x600 with 1 Axes>"
      ]
     },
     "metadata": {},
     "output_type": "display_data"
    }
   ],
   "source": [
    "# Count the brand \n",
    "plt.figure(figsize=(8, 6))\n",
    "data_challenge_train1['Brand'].value_counts().plot(kind='pie', \n",
    "                                                  autopct = '%1.2f%%')\n",
    "plt.title('Count the brand of car')\n",
    "plt.show()"
   ]
  },
  {
   "cell_type": "code",
   "execution_count": 18,
   "id": "7f303b61-a4e7-4482-b151-a858c3a12131",
   "metadata": {},
   "outputs": [
    {
     "data": {
      "text/plain": [
       "Text(0.5, 1.0, 'Count of Accidents history')"
      ]
     },
     "execution_count": 18,
     "metadata": {},
     "output_type": "execute_result"
    },
    {
     "data": {
      "image/png": "[encoded data removed]",
      "text/plain": [
       "<Figure size 800x600 with 1 Axes>"
      ]
     },
     "metadata": {},
     "output_type": "display_data"
    }
   ],
   "source": [
    "# Accidents history \n",
    "plt.figure(figsize=(8, 6))\n",
    "data_challenge_train1['Accidents_History'].value_counts().plot(kind='bar')\n",
    "plt.title('Count of Accidents history')"
   ]
  },
  {
   "cell_type": "code",
   "execution_count": 19,
   "id": "f4206621-cf5a-4e97-bbdd-8fe74172ddb0",
   "metadata": {},
   "outputs": [
    {
     "data": {
      "text/plain": [
       "<Axes: xlabel='variable', ylabel='value'>"
      ]
     },
     "execution_count": 19,
     "metadata": {},
     "output_type": "execute_result"
    },
    {
     "data": {
      "image/png": "[encoded data removed]",
      "text/plain": [
       "<Figure size 600x400 with 1 Axes>"
      ]
     },
     "metadata": {},
     "output_type": "display_data"
    }
   ],
   "source": [
    "# checking anomaly values\n",
    "plt.figure(figsize=(6, 4))\n",
    "sns.boxplot(x=\"variable\", y=\"value\", data=pd.melt(data_challenge_train1[['Age','Accidents_History']]))"
   ]
  },
  {
   "cell_type": "code",
   "execution_count": 20,
   "id": "eba1896b-7660-49ed-b72f-7a7786465bab",
   "metadata": {},
   "outputs": [
    {
     "data": {
      "text/plain": [
       "<Axes: xlabel='variable', ylabel='value'>"
      ]
     },
     "execution_count": 20,
     "metadata": {},
     "output_type": "execute_result"
    },
    {
     "data": {
      "image/png": "[encoded data removed]",
      "text/plain": [
       "<Figure size 800x600 with 2 Axes>"
      ]
     },
     "metadata": {},
     "output_type": "display_data"
    }
   ],
   "source": [
    "plt.figure(figsize=(8, 6))\n",
    "plt.subplot(121)\n",
    "sns.boxplot(x=\"variable\", y=\"value\", data=pd.melt(data_challenge_train1[['Mileage']]))\n",
    "plt.subplot(122)\n",
    "sns.boxplot(x=\"variable\", y=\"value\", data=pd.melt(data_challenge_train1[['Horsepower']]))"
   ]
  },
  {
   "cell_type": "code",
   "execution_count": 21,
   "id": "2abdc2f1-ade8-4a6c-97b2-dd8d8a93695f",
   "metadata": {},
   "outputs": [
    {
     "data": {
      "image/png": "[encoded data removed]",
      "text/plain": [
       "<Figure size 640x480 with 1 Axes>"
      ]
     },
     "metadata": {},
     "output_type": "display_data"
    }
   ],
   "source": [
    "## Relationship between Mileage and Price \n",
    "sns.scatterplot(data=data_challenge_train1, x='Price', y='Mileage')\n",
    "plt.show()"
   ]
  },
  {
   "cell_type": "code",
   "execution_count": 22,
   "id": "9ee90353-8cd4-47a2-9003-e3ac9ffe526f",
   "metadata": {},
   "outputs": [
    {
     "data": {
      "image/png": "[encoded data removed]",
      "text/plain": [
       "<Figure size 640x480 with 1 Axes>"
      ]
     },
     "metadata": {},
     "output_type": "display_data"
    }
   ],
   "source": [
    "sns.scatterplot(data=data_challenge_train1, x='Price', y='Horsepower')\n",
    "plt.show()"
   ]
  },
  {
   "cell_type": "code",
   "execution_count": 29,
   "id": "282b0461-a0da-496a-9008-a9e2e2c9b2d5",
   "metadata": {},
   "outputs": [
    {
     "name": "stdout",
     "output_type": "stream",
     "text": [
      "Các điểm bất thường:\n",
      "            Mileage       Age   Brand  Horsepower         Price  \\\n",
      "0       4307.854178  4.843951     BMW  246.315008  17072.488092   \n",
      "37    -49831.578333  9.725981     BMW  -61.026444  68853.503157   \n",
      "92    -38923.009097  2.212056    Ford -100.487866  91450.965098   \n",
      "94    -57857.642804  3.683433    Ford -191.762807  68853.503157   \n",
      "272   -48487.798600  2.135476    Ford -159.152098  68853.503157   \n",
      "355   -30605.924378  9.647228    Ford -244.797624  91450.965098   \n",
      "360   -61949.580135  7.210926  Toyota -115.704693  68853.503157   \n",
      "417     3247.151126  4.416035  Toyota  226.841211  20102.872257   \n",
      "420   -40871.813906  0.958620    Ford  -82.115845  68853.503157   \n",
      "428   -51001.940544  4.354392    Ford -178.429776  91450.965098   \n",
      "467    93936.443626  6.124562    Ford  247.123506   5975.283322   \n",
      "522   -59972.750589  7.785880     BMW -178.507057  68853.503157   \n",
      "546   -55742.098832  8.532278  Toyota -124.263591  91450.965098   \n",
      "627   -46475.229756  0.303109     BMW -165.062258  68853.503157   \n",
      "641   -49924.151580  9.671901  Toyota -148.724016  68853.503157   \n",
      "661   -46186.713219  8.155836  Toyota -151.876900  68853.503157   \n",
      "675   -47135.098625  4.017810  Toyota -196.306040  68853.503157   \n",
      "693   -65974.272122  9.123163     BMW -147.024640  91450.965098   \n",
      "699   -64766.917478  7.789672  Toyota  -98.692260  68853.503157   \n",
      "727   -48105.733753  5.367830  Toyota -224.325335  68853.503157   \n",
      "802      884.499901  7.984940    Ford  155.248078  28167.294791   \n",
      "807   -10316.841728  3.733457  Toyota -132.529046  91450.965098   \n",
      "926   -55332.885019  3.122986    Ford -237.621642  91450.965098   \n",
      "1011   89940.900706  9.107376  Toyota   99.487996   4651.059550   \n",
      "1172  -51176.507621  2.628353     BMW -217.557571  68853.503157   \n",
      "1175  107024.903225  6.173297    Ford  127.126727   6927.889535   \n",
      "1287  -51494.219227  1.205833  Toyota -158.874339  91450.965098   \n",
      "1317  -59988.353061  4.622782  Toyota -167.344316  91450.965098   \n",
      "1342  -74007.968084  1.639281  Toyota -133.362031  68853.503157   \n",
      "1365  -49763.200908  9.643692  Toyota -179.322849  91450.965098   \n",
      "1367  -54103.848725  5.140954     BMW -125.784827  91450.965098   \n",
      "1415  -41420.308350  7.918392  Toyota -190.000739  68853.503157   \n",
      "1455  -60677.954172  0.846208    Ford -190.070439  91450.965098   \n",
      "1462  -53090.819198  4.379218  Toyota -257.937259  68853.503157   \n",
      "1465    7519.821951  6.206329     BMW  162.807034  21219.775075   \n",
      "1486  -44368.461077  7.070726    Ford -156.739562  91450.965098   \n",
      "1576  -48215.746586  8.205373     BMW -129.921270  91450.965098   \n",
      "1611  -42325.001782  7.484031  Toyota  -82.909941  91450.965098   \n",
      "1616  -71069.629869  7.471868  Toyota  -13.452916  68853.503157   \n",
      "1633  -49625.612224  0.050371  Toyota -118.905745  68853.503157   \n",
      "1646    5080.807097  1.110456  Toyota   74.165926  27498.522941   \n",
      "1679  -58691.680577  4.491175    Ford -122.799725  68853.503157   \n",
      "1687  -50205.384571  7.941537     BMW -158.958009  91450.965098   \n",
      "1695  -47438.791497  6.846144    Ford  -44.411556  91450.965098   \n",
      "1716  -60678.750643  1.324455  toyota -111.909492  91450.965098   \n",
      "1847   93221.910697  6.698276    Ford  285.919743   5856.381293   \n",
      "1874  -55096.867258  2.192466     BMW -214.969229  91450.965098   \n",
      "1891  -50223.870060  7.901084    Ford -165.568315  68853.503157   \n",
      "1893  -43614.158048  0.426657     BMW -196.275937  68853.503157   \n",
      "1945  -52844.703509  6.654006  Toyota -143.520861  68853.503157   \n",
      "\n",
      "      Accidents_History Last_Service_Date    ID  \n",
      "0                     1        2020-10-31  1350  \n",
      "37                    1        2021-01-22  2699  \n",
      "92                    1        2022-12-03  4320  \n",
      "94                    0        2022-09-25  8002  \n",
      "272                   0        2023-04-22  3281  \n",
      "355                   1        2021-04-05  2532  \n",
      "360                   1        2023-08-19  6481  \n",
      "417                   1        2022-01-09  7407  \n",
      "420                   0        2021-04-23   166  \n",
      "428                   0        2020-10-07  9819  \n",
      "467                   2        2023-03-03  8935  \n",
      "522                   0        2023-08-12  7012  \n",
      "546                   0        2023-01-08  1878  \n",
      "627                   0        2022-09-30  6714  \n",
      "641                   0        2022-03-12  2444  \n",
      "661                   0        2023-06-12  6692  \n",
      "675                   0        2021-01-29  7795  \n",
      "693                   0        2022-12-21  4375  \n",
      "699                   1        2021-12-21  2375  \n",
      "727                   0        2023-05-23  9869  \n",
      "802                   0        2021-10-16  8180  \n",
      "807                   0        2023-07-09   655  \n",
      "926                   0        2021-01-20  1481  \n",
      "1011                  1        2020-10-27  2443  \n",
      "1172                  2        2023-04-13  6253  \n",
      "1175                  0        2022-05-19  2317  \n",
      "1287                  1        2021-11-26  4820  \n",
      "1317                  0        2022-11-29  1688  \n",
      "1342                  0        2020-10-31  3052  \n",
      "1365                  0        2023-05-27  1733  \n",
      "1367                  0        2021-08-20  3635  \n",
      "1415                  1        2023-03-01  6527  \n",
      "1455                  0        2021-02-25  2499  \n",
      "1462                  0        2022-11-02  6789  \n",
      "1465                  0        2022-01-28  3245  \n",
      "1486                  0        2023-09-16  6847  \n",
      "1576                  0        2021-08-23  2934  \n",
      "1611                  0        2021-12-08   923  \n",
      "1616                  1        2022-10-26  1871  \n",
      "1633                  0        2021-11-24  6543  \n",
      "1646                  0        2021-04-12   235  \n",
      "1679                  0        2022-07-13  4041  \n",
      "1687                  0        2021-10-02  8204  \n",
      "1695                  0        2021-11-12  7299  \n",
      "1716                  1        2023-06-08  8042  \n",
      "1847                  0        2021-06-17  5264  \n",
      "1874                  0        2022-05-02  7389  \n",
      "1891                  0        2022-03-12  4627  \n",
      "1893                  2        2022-11-29  2154  \n",
      "1945                  1        2022-02-25  1179  \n",
      "50\n"
     ]
    }
   ],
   "source": [
    "# Drop anomaly value \n",
    "# Compute IQR for 'mileage' columns\n",
    "Q1 = data_challenge_train1['Mileage'].quantile(0.25)\n",
    "Q3 = data_challenge_train1['Mileage'].quantile(0.75)\n",
    "IQR = Q3 - Q1\n",
    "\n",
    "# Xác định các điểm bất thường\n",
    "lower_bound = Q1 - 1.5 * IQR\n",
    "upper_bound = Q3 + 1.5 * IQR\n",
    "outliers = data_challenge_train1[(data_challenge_train1['Mileage'] < lower_bound) | (data_challenge_train1['Mileage'] > upper_bound)]\n",
    "\n",
    "# In ra các điểm bất thường\n",
    "print(\"Các điểm bất thường:\")\n",
    "print(outliers)\n",
    "print(len(outliers))"
   ]
  },
  {
   "cell_type": "markdown",
   "id": "2fe2e441-440f-40c7-8d4c-d8675bb79b4e",
   "metadata": {},
   "source": [
    "### Machine Learning Modeling "
   ]
  },
  {
   "cell_type": "code",
   "execution_count": 57,
   "id": "b196116b-5d03-4c94-b423-bb9c376d22f8",
   "metadata": {},
   "outputs": [],
   "source": [
    "from sklearn.model_selection import train_test_split, cross_val_score\n",
    "from sklearn.linear_model import LinearRegression, Ridge, Lasso, SGDRegressor\n",
    "from sklearn.tree import DecisionTreeRegressor\n",
    "from sklearn.preprocessing import StandardScaler, LabelEncoder\n",
    "from sklearn.metrics import mean_absolute_error, mean_squared_error, r2_score\n",
    "from statistics import mean"
   ]
  },
  {
   "cell_type": "code",
   "execution_count": 85,
   "id": "4de9997f-d411-46d6-8c87-fe60c747f997",
   "metadata": {},
   "outputs": [
    {
     "data": {
      "text/html": [
       "<div>\n",
       "<style scoped>\n",
       "    .dataframe tbody tr th:only-of-type {\n",
       "        vertical-align: middle;\n",
       "    }\n",
       "\n",
       "    .dataframe tbody tr th {\n",
       "        vertical-align: top;\n",
       "    }\n",
       "\n",
       "    .dataframe thead th {\n",
       "        text-align: right;\n",
       "    }\n",
       "</style>\n",
       "<table border=\"1\" class=\"dataframe\">\n",
       "  <thead>\n",
       "    <tr style=\"text-align: right;\">\n",
       "      <th></th>\n",
       "      <th>Mileage</th>\n",
       "      <th>Age</th>\n",
       "      <th>Brand</th>\n",
       "      <th>Horsepower</th>\n",
       "      <th>Price</th>\n",
       "      <th>Accidents_History</th>\n",
       "      <th>Last_Service_Date</th>\n",
       "      <th>ID</th>\n",
       "    </tr>\n",
       "  </thead>\n",
       "  <tbody>\n",
       "    <tr>\n",
       "      <th>0</th>\n",
       "      <td>4307.854178</td>\n",
       "      <td>4.843951</td>\n",
       "      <td>BMW</td>\n",
       "      <td>246.315008</td>\n",
       "      <td>17072.488092</td>\n",
       "      <td>1</td>\n",
       "      <td>2020-10-31</td>\n",
       "      <td>1350</td>\n",
       "    </tr>\n",
       "    <tr>\n",
       "      <th>1</th>\n",
       "      <td>52160.653567</td>\n",
       "      <td>1.452421</td>\n",
       "      <td>ford</td>\n",
       "      <td>182.782369</td>\n",
       "      <td>17351.677402</td>\n",
       "      <td>1</td>\n",
       "      <td>2022-12-27</td>\n",
       "      <td>2684</td>\n",
       "    </tr>\n",
       "    <tr>\n",
       "      <th>2</th>\n",
       "      <td>42237.214362</td>\n",
       "      <td>5.673198</td>\n",
       "      <td>BMW</td>\n",
       "      <td>22.188980</td>\n",
       "      <td>9203.644481</td>\n",
       "      <td>3</td>\n",
       "      <td>Unknown</td>\n",
       "      <td>3201</td>\n",
       "    </tr>\n",
       "    <tr>\n",
       "      <th>3</th>\n",
       "      <td>58520.110388</td>\n",
       "      <td>2.806898</td>\n",
       "      <td>Unknown</td>\n",
       "      <td>155.824358</td>\n",
       "      <td>11785.969236</td>\n",
       "      <td>0</td>\n",
       "      <td>2022-08-26</td>\n",
       "      <td>1332</td>\n",
       "    </tr>\n",
       "    <tr>\n",
       "      <th>4</th>\n",
       "      <td>60376.767928</td>\n",
       "      <td>3.599798</td>\n",
       "      <td>Ford</td>\n",
       "      <td>155.421041</td>\n",
       "      <td>14663.608320</td>\n",
       "      <td>3</td>\n",
       "      <td>2021-12-22</td>\n",
       "      <td>2724</td>\n",
       "    </tr>\n",
       "  </tbody>\n",
       "</table>\n",
       "</div>"
      ],
      "text/plain": [
       "        Mileage       Age    Brand  Horsepower         Price  \\\n",
       "0   4307.854178  4.843951      BMW  246.315008  17072.488092   \n",
       "1  52160.653567  1.452421     ford  182.782369  17351.677402   \n",
       "2  42237.214362  5.673198      BMW   22.188980   9203.644481   \n",
       "3  58520.110388  2.806898  Unknown  155.824358  11785.969236   \n",
       "4  60376.767928  3.599798     Ford  155.421041  14663.608320   \n",
       "\n",
       "   Accidents_History Last_Service_Date    ID  \n",
       "0                  1        2020-10-31  1350  \n",
       "1                  1        2022-12-27  2684  \n",
       "2                  3           Unknown  3201  \n",
       "3                  0        2022-08-26  1332  \n",
       "4                  3        2021-12-22  2724  "
      ]
     },
     "execution_count": 85,
     "metadata": {},
     "output_type": "execute_result"
    }
   ],
   "source": [
    "# drop missing values \n",
    "from sklearn.impute import KNNImputer\n",
    "\n",
    "df = data_challenge_train.copy()\n",
    "df['Brand'].fillna('Unknown', inplace=True)\n",
    "df['Last_Service_Date'].fillna('Unknown', inplace=True)\n",
    "df['Age'].fillna(df[\"Age\"].mean(), inplace=True)\n",
    "\n",
    "#imputer = KNNImputer(n_neighbors=5)\n",
    "#X_imputed = imputer.fit_transform(data_challenge_train)\n",
    "\n",
    "df.head()"
   ]
  },
  {
   "cell_type": "code",
   "execution_count": 86,
   "id": "02063c94-5d3d-4b99-af49-daf465cb80be",
   "metadata": {},
   "outputs": [],
   "source": [
    "# Convert object values to numeric values using LaberEncoder\n",
    "for col in df.select_dtypes(include='object').columns:\n",
    "    label_encoder = LabelEncoder()\n",
    "    label_encoder.fit(df[col].unique())\n",
    "    df[col] = label_encoder.transform(df[col])"
   ]
  },
  {
   "cell_type": "code",
   "execution_count": 87,
   "id": "7412b435-e602-4de5-ae10-8086cf323d33",
   "metadata": {},
   "outputs": [
    {
     "data": {
      "text/html": [
       "<div>\n",
       "<style scoped>\n",
       "    .dataframe tbody tr th:only-of-type {\n",
       "        vertical-align: middle;\n",
       "    }\n",
       "\n",
       "    .dataframe tbody tr th {\n",
       "        vertical-align: top;\n",
       "    }\n",
       "\n",
       "    .dataframe thead th {\n",
       "        text-align: right;\n",
       "    }\n",
       "</style>\n",
       "<table border=\"1\" class=\"dataframe\">\n",
       "  <thead>\n",
       "    <tr style=\"text-align: right;\">\n",
       "      <th></th>\n",
       "      <th>Mileage</th>\n",
       "      <th>Age</th>\n",
       "      <th>Brand</th>\n",
       "      <th>Horsepower</th>\n",
       "      <th>Price</th>\n",
       "      <th>Accidents_History</th>\n",
       "      <th>Last_Service_Date</th>\n",
       "      <th>ID</th>\n",
       "    </tr>\n",
       "  </thead>\n",
       "  <tbody>\n",
       "    <tr>\n",
       "      <th>0</th>\n",
       "      <td>4307.854178</td>\n",
       "      <td>4.843951</td>\n",
       "      <td>0</td>\n",
       "      <td>246.315008</td>\n",
       "      <td>17072.488092</td>\n",
       "      <td>1</td>\n",
       "      <td>26</td>\n",
       "      <td>1350</td>\n",
       "    </tr>\n",
       "    <tr>\n",
       "      <th>1</th>\n",
       "      <td>52160.653567</td>\n",
       "      <td>1.452421</td>\n",
       "      <td>5</td>\n",
       "      <td>182.782369</td>\n",
       "      <td>17351.677402</td>\n",
       "      <td>1</td>\n",
       "      <td>676</td>\n",
       "      <td>2684</td>\n",
       "    </tr>\n",
       "    <tr>\n",
       "      <th>2</th>\n",
       "      <td>42237.214362</td>\n",
       "      <td>5.673198</td>\n",
       "      <td>0</td>\n",
       "      <td>22.188980</td>\n",
       "      <td>9203.644481</td>\n",
       "      <td>3</td>\n",
       "      <td>897</td>\n",
       "      <td>3201</td>\n",
       "    </tr>\n",
       "    <tr>\n",
       "      <th>3</th>\n",
       "      <td>58520.110388</td>\n",
       "      <td>2.806898</td>\n",
       "      <td>3</td>\n",
       "      <td>155.824358</td>\n",
       "      <td>11785.969236</td>\n",
       "      <td>0</td>\n",
       "      <td>577</td>\n",
       "      <td>1332</td>\n",
       "    </tr>\n",
       "    <tr>\n",
       "      <th>4</th>\n",
       "      <td>60376.767928</td>\n",
       "      <td>3.599798</td>\n",
       "      <td>1</td>\n",
       "      <td>155.421041</td>\n",
       "      <td>14663.608320</td>\n",
       "      <td>3</td>\n",
       "      <td>375</td>\n",
       "      <td>2724</td>\n",
       "    </tr>\n",
       "  </tbody>\n",
       "</table>\n",
       "</div>"
      ],
      "text/plain": [
       "        Mileage       Age  Brand  Horsepower         Price  Accidents_History  \\\n",
       "0   4307.854178  4.843951      0  246.315008  17072.488092                  1   \n",
       "1  52160.653567  1.452421      5  182.782369  17351.677402                  1   \n",
       "2  42237.214362  5.673198      0   22.188980   9203.644481                  3   \n",
       "3  58520.110388  2.806898      3  155.824358  11785.969236                  0   \n",
       "4  60376.767928  3.599798      1  155.421041  14663.608320                  3   \n",
       "\n",
       "   Last_Service_Date    ID  \n",
       "0                 26  1350  \n",
       "1                676  2684  \n",
       "2                897  3201  \n",
       "3                577  1332  \n",
       "4                375  2724  "
      ]
     },
     "execution_count": 87,
     "metadata": {},
     "output_type": "execute_result"
    }
   ],
   "source": [
    "df.head()"
   ]
  },
  {
   "cell_type": "code",
   "execution_count": 88,
   "id": "1633d0a8-73c5-4fb9-a312-6582a7f1bcd4",
   "metadata": {},
   "outputs": [
    {
     "data": {
      "text/html": [
       "<div>\n",
       "<style scoped>\n",
       "    .dataframe tbody tr th:only-of-type {\n",
       "        vertical-align: middle;\n",
       "    }\n",
       "\n",
       "    .dataframe tbody tr th {\n",
       "        vertical-align: top;\n",
       "    }\n",
       "\n",
       "    .dataframe thead th {\n",
       "        text-align: right;\n",
       "    }\n",
       "</style>\n",
       "<table border=\"1\" class=\"dataframe\">\n",
       "  <thead>\n",
       "    <tr style=\"text-align: right;\">\n",
       "      <th></th>\n",
       "      <th>Mileage</th>\n",
       "      <th>Age</th>\n",
       "      <th>Brand</th>\n",
       "      <th>Horsepower</th>\n",
       "      <th>Accidents_History</th>\n",
       "      <th>Last_Service_Date</th>\n",
       "    </tr>\n",
       "  </thead>\n",
       "  <tbody>\n",
       "    <tr>\n",
       "      <th>0</th>\n",
       "      <td>4307.854178</td>\n",
       "      <td>4.843951</td>\n",
       "      <td>0</td>\n",
       "      <td>246.315008</td>\n",
       "      <td>1</td>\n",
       "      <td>26</td>\n",
       "    </tr>\n",
       "    <tr>\n",
       "      <th>1</th>\n",
       "      <td>52160.653567</td>\n",
       "      <td>1.452421</td>\n",
       "      <td>5</td>\n",
       "      <td>182.782369</td>\n",
       "      <td>1</td>\n",
       "      <td>676</td>\n",
       "    </tr>\n",
       "    <tr>\n",
       "      <th>2</th>\n",
       "      <td>42237.214362</td>\n",
       "      <td>5.673198</td>\n",
       "      <td>0</td>\n",
       "      <td>22.188980</td>\n",
       "      <td>3</td>\n",
       "      <td>897</td>\n",
       "    </tr>\n",
       "    <tr>\n",
       "      <th>3</th>\n",
       "      <td>58520.110388</td>\n",
       "      <td>2.806898</td>\n",
       "      <td>3</td>\n",
       "      <td>155.824358</td>\n",
       "      <td>0</td>\n",
       "      <td>577</td>\n",
       "    </tr>\n",
       "    <tr>\n",
       "      <th>4</th>\n",
       "      <td>60376.767928</td>\n",
       "      <td>3.599798</td>\n",
       "      <td>1</td>\n",
       "      <td>155.421041</td>\n",
       "      <td>3</td>\n",
       "      <td>375</td>\n",
       "    </tr>\n",
       "  </tbody>\n",
       "</table>\n",
       "</div>"
      ],
      "text/plain": [
       "        Mileage       Age  Brand  Horsepower  Accidents_History  \\\n",
       "0   4307.854178  4.843951      0  246.315008                  1   \n",
       "1  52160.653567  1.452421      5  182.782369                  1   \n",
       "2  42237.214362  5.673198      0   22.188980                  3   \n",
       "3  58520.110388  2.806898      3  155.824358                  0   \n",
       "4  60376.767928  3.599798      1  155.421041                  3   \n",
       "\n",
       "   Last_Service_Date  \n",
       "0                 26  \n",
       "1                676  \n",
       "2                897  \n",
       "3                577  \n",
       "4                375  "
      ]
     },
     "execution_count": 88,
     "metadata": {},
     "output_type": "execute_result"
    }
   ],
   "source": [
    "# Normalization values \n",
    "X = df[[\"Mileage\", \"Age\", \"Brand\", \"Horsepower\", \"Accidents_History\", \"Last_Service_Date\"]]\n",
    "y = df[[\"Price\"]]\n",
    "X.head()"
   ]
  },
  {
   "cell_type": "code",
   "execution_count": 90,
   "id": "e6defba4-e584-497b-9d08-554a17cf74eb",
   "metadata": {},
   "outputs": [],
   "source": [
    "# Scalling the data \n",
    "standard = StandardScaler()\n",
    "X = standard.fit_transform(X)\n",
    "y = y.values"
   ]
  },
  {
   "cell_type": "code",
   "execution_count": 142,
   "id": "0c872b61-e8a3-45b9-acf5-eac99282069c",
   "metadata": {},
   "outputs": [
    {
     "data": {
      "text/plain": [
       "array([[-2.04196044, -0.02014075, -1.05878458,  1.55976649,  0.69232697,\n",
       "        -1.61239789],\n",
       "       [ 0.22710063, -1.21398906,  2.98701052,  0.62262623,  0.69232697,\n",
       "         0.79965764],\n",
       "       [-0.24344424,  0.27176129, -1.05878458, -1.74621178,  3.5239301 ,\n",
       "         1.61975651],\n",
       "       ...,\n",
       "       [ 0.32807787,  0.1888828 ,  0.55953346, -1.8761442 ,  0.69232697,\n",
       "        -0.28391192],\n",
       "       [ 0.02332993,  1.51923458,  0.55953346,  0.28380066, -0.7234746 ,\n",
       "        -0.77003388],\n",
       "       [ 0.08936158, -0.11875293, -1.05878458,  1.39511626,  3.5239301 ,\n",
       "         0.15025807]])"
      ]
     },
     "execution_count": 142,
     "metadata": {},
     "output_type": "execute_result"
    }
   ],
   "source": [
    "X"
   ]
  },
  {
   "cell_type": "code",
   "execution_count": 127,
   "id": "260b1176-2bfa-4eac-a8ae-08a9ad081ae0",
   "metadata": {},
   "outputs": [
    {
     "name": "stdout",
     "output_type": "stream",
     "text": [
      "Shape of x_train:  (1340, 6)\n",
      "Shape of y_train:  (1340, 1)\n",
      "Shape of x_test:  (660, 6)\n",
      "Shape of y_test:  (660, 1)\n"
     ]
    }
   ],
   "source": [
    "# Split data to train dataset and test dataset \n",
    "X_train,X_test, y_train, y_test_1 = train_test_split(X, y, test_size=0.33, random_state=42)\n",
    "print('Shape of x_train: ', X_train.shape)\n",
    "print('Shape of y_train: ', y_train.shape)\n",
    "print('Shape of x_test: ', X_test.shape)\n",
    "print('Shape of y_test: ', y_test.shape)"
   ]
  },
  {
   "cell_type": "code",
   "execution_count": 121,
   "id": "2231ce55-2169-4184-b63c-a503143e3896",
   "metadata": {},
   "outputs": [
    {
     "name": "stdout",
     "output_type": "stream",
     "text": [
      "R2_score:  0.7716885341325064\n",
      "Mean absolute error:  3698.5438873329003\n",
      "Mean squared error:  26634165.910521686\n"
     ]
    }
   ],
   "source": [
    "# test model with Linear Regression \n",
    "linear = LinearRegression()\n",
    "linear.fit(X_train, y_train)\n",
    "linear_pred_y = linear.predict(X_test)\n",
    "print('R2_score: ', r2_score(y_test, linear_pred_y))\n",
    "print(\"Mean absolute error: \", mean_absolute_error(y_test, linear_pred_y))\n",
    "print(\"Mean squared error: \", mean_squared_error(y_test, linear_pred_y))\n",
    "\n"
   ]
  },
  {
   "cell_type": "code",
   "execution_count": 93,
   "id": "354209be-cb69-409f-8505-d295e0ef7478",
   "metadata": {},
   "outputs": [
    {
     "name": "stdout",
     "output_type": "stream",
     "text": [
      "0.25 : 76.4024841191995\n",
      "0.5 : 76.40302364404494\n",
      "0.75 : 76.40356098155372\n",
      "1.0 : 76.40409613356003\n",
      "1.25 : 76.404629101896\n",
      "1.5 : 76.40515988839185\n",
      "1.75 : 76.4056884948758\n",
      "2.0 : 76.40621492317413\n"
     ]
    }
   ],
   "source": [
    "# List to maintain the different cross-validation scores\n",
    "cross_val_scores_ridge = []\n",
    " \n",
    "# List to maintain the different values of alpha\n",
    "alpha = []\n",
    " \n",
    "# Loop to compute the different values of cross-validation scores\n",
    "for i in range(1, 9):\n",
    "    ridgeModel = Ridge(alpha = i * 0.25)\n",
    "    ridgeModel.fit(X_train, y_train)\n",
    "    scores = cross_val_score(ridgeModel, X, y, cv = 10)\n",
    "    avg_cross_val_score = mean(scores)*100\n",
    "    cross_val_scores_ridge.append(avg_cross_val_score)\n",
    "    alpha.append(i * 0.25)\n",
    " \n",
    "# Loop to print the different values of cross-validation scores\n",
    "for i in range(0, len(alpha)):\n",
    "    print(str(alpha[i])+' : '+str(cross_val_scores_ridge[i]))"
   ]
  },
  {
   "cell_type": "code",
   "execution_count": 94,
   "id": "619cc5ad-9fc7-4ad7-9d1c-7cca40e8a9d7",
   "metadata": {},
   "outputs": [
    {
     "name": "stdout",
     "output_type": "stream",
     "text": [
      "R2_score:  0.771723653318959\n",
      "Mean absolute error:  3696.386262204443\n",
      "Mean squared error:  26630069.00616751\n"
     ]
    }
   ],
   "source": [
    "model1 = Ridge(alpha=2.0)\n",
    "model1.fit(X_train, y_train)\n",
    "ridge_pred_y = model1.predict(X_test)\n",
    "print('R2_score: ', r2_score(y_test, ridge_pred_y))\n",
    "print(\"Mean absolute error: \", mean_absolute_error(y_test, ridge_pred_y))\n",
    "print(\"Mean squared error: \", mean_squared_error(y_test, ridge_pred_y))"
   ]
  },
  {
   "cell_type": "code",
   "execution_count": 95,
   "id": "b7948775-841b-474e-9677-77b814c463e5",
   "metadata": {},
   "outputs": [
    {
     "name": "stdout",
     "output_type": "stream",
     "text": [
      "Max depth: 5\n",
      "R2_score:  0.7909017805483779\n",
      "Mean absolute error:  3131.5426648073526\n",
      "Mean squared error:  24392803.258078054\n",
      "Max depth: 6\n",
      "R2_score:  0.8520830451390977\n",
      "Mean absolute error:  2851.9233556091835\n",
      "Mean squared error:  17255571.032209538\n",
      "Max depth: 7\n",
      "R2_score:  0.8523257718463059\n",
      "Mean absolute error:  2756.7871022622016\n",
      "Mean squared error:  17227255.225265134\n",
      "Max depth: 8\n",
      "R2_score:  0.8075690002591853\n",
      "Mean absolute error:  2775.376930295204\n",
      "Mean squared error:  22448452.835912216\n",
      "Max depth: 9\n",
      "R2_score:  0.8568859450015881\n",
      "Mean absolute error:  2691.5151995888446\n",
      "Mean squared error:  16695278.40168771\n",
      "Max depth: 10\n",
      "R2_score:  0.844435096782351\n",
      "Mean absolute error:  2810.9052967946554\n",
      "Mean squared error:  18147758.924020957\n",
      "Max depth: 11\n",
      "R2_score:  0.7821805411374414\n",
      "Mean absolute error:  3033.096382113507\n",
      "Mean squared error:  25410198.2300462\n",
      "Max depth: 12\n",
      "R2_score:  0.7783804119028414\n",
      "Mean absolute error:  3034.693191179435\n",
      "Mean squared error:  25853510.492665995\n",
      "Max depth: 13\n",
      "R2_score:  0.8309859734171294\n",
      "Mean absolute error:  3003.6809700772615\n",
      "Mean squared error:  19716695.3841297\n",
      "Max depth: 14\n",
      "R2_score:  0.7823384261022759\n",
      "Mean absolute error:  3082.623329714764\n",
      "Mean squared error:  25391779.819336064\n",
      "Max depth: 15\n",
      "R2_score:  0.7842774867690749\n",
      "Mean absolute error:  3031.369415894967\n",
      "Mean squared error:  25165574.51986124\n",
      "Max depth: 16\n",
      "R2_score:  0.8304226695904368\n",
      "Mean absolute error:  3011.1125601888684\n",
      "Mean squared error:  19782408.80557859\n",
      "Max depth: 17\n",
      "R2_score:  0.7817298929129393\n",
      "Mean absolute error:  3042.8133917280265\n",
      "Mean squared error:  25462769.569523457\n",
      "Max depth: 18\n",
      "R2_score:  0.8294998268356003\n",
      "Mean absolute error:  3027.0747425340824\n",
      "Mean squared error:  19890065.015257966\n",
      "Max depth: 19\n",
      "R2_score:  0.775349129322275\n",
      "Mean absolute error:  3133.2272161733385\n",
      "Mean squared error:  26207131.29250501\n"
     ]
    }
   ],
   "source": [
    "### Decision Tree\n",
    "for i in range(5, 20):\n",
    "    tree_model = DecisionTreeRegressor(max_depth=i)\n",
    "    tree_model.fit(X_train, y_train)\n",
    "    tree_pred_y = tree_model.predict(X_test)\n",
    "    print(f'Max depth: {i}')\n",
    "    print('R2_score: ', r2_score(y_test, tree_pred_y))\n",
    "    print(\"Mean absolute error: \", mean_absolute_error(y_test, tree_pred_y))\n",
    "    print(\"Mean squared error: \", mean_squared_error(y_test, tree_pred_y))"
   ]
  },
  {
   "cell_type": "code",
   "execution_count": 97,
   "id": "e8d7415e-f49f-4ea1-bcc6-57d1a9faec81",
   "metadata": {},
   "outputs": [
    {
     "name": "stdout",
     "output_type": "stream",
     "text": [
      "R2_score:  0.848384155227248\n",
      "Mean absolute error:  2749.5844330664413\n",
      "Mean squared error:  17687073.003530316\n"
     ]
    }
   ],
   "source": [
    "model_tree = DecisionTreeRegressor(max_depth=9)\n",
    "model_tree.fit(X_train, y_train)\n",
    "tree_pred_y = model_tree.predict(X_test)\n",
    "print('R2_score: ', r2_score(y_test, tree_pred_y))\n",
    "print(\"Mean absolute error: \", mean_absolute_error(y_test, tree_pred_y))\n",
    "print(\"Mean squared error: \", mean_squared_error(y_test, tree_pred_y))"
   ]
  },
  {
   "cell_type": "code",
   "execution_count": 98,
   "id": "a0d053c9-aa3a-4bc9-a18b-92422db21f63",
   "metadata": {},
   "outputs": [
    {
     "name": "stdout",
     "output_type": "stream",
     "text": [
      "<class 'pandas.core.frame.DataFrame'>\n",
      "RangeIndex: 2160 entries, 0 to 2159\n",
      "Data columns (total 7 columns):\n",
      " #   Column             Non-Null Count  Dtype  \n",
      "---  ------             --------------  -----  \n",
      " 0   Mileage            2160 non-null   float64\n",
      " 1   Age                2063 non-null   float64\n",
      " 2   Brand              2079 non-null   object \n",
      " 3   Horsepower         2160 non-null   float64\n",
      " 4   Accidents_History  2160 non-null   int64  \n",
      " 5   Last_Service_Date  2070 non-null   object \n",
      " 6   ID                 2160 non-null   int64  \n",
      "dtypes: float64(3), int64(2), object(2)\n",
      "memory usage: 118.2+ KB\n"
     ]
    }
   ],
   "source": [
    "### Data Test \n",
    "data_challenge_test.info()"
   ]
  },
  {
   "cell_type": "code",
   "execution_count": 161,
   "id": "c4df21f7-067a-481c-9d62-0823e6a5b73d",
   "metadata": {},
   "outputs": [
    {
     "data": {
      "text/html": [
       "<div>\n",
       "<style scoped>\n",
       "    .dataframe tbody tr th:only-of-type {\n",
       "        vertical-align: middle;\n",
       "    }\n",
       "\n",
       "    .dataframe tbody tr th {\n",
       "        vertical-align: top;\n",
       "    }\n",
       "\n",
       "    .dataframe thead th {\n",
       "        text-align: right;\n",
       "    }\n",
       "</style>\n",
       "<table border=\"1\" class=\"dataframe\">\n",
       "  <thead>\n",
       "    <tr style=\"text-align: right;\">\n",
       "      <th></th>\n",
       "      <th>Mileage</th>\n",
       "      <th>Age</th>\n",
       "      <th>Brand</th>\n",
       "      <th>Horsepower</th>\n",
       "      <th>Accidents_History</th>\n",
       "      <th>Last_Service_Date</th>\n",
       "      <th>ID</th>\n",
       "    </tr>\n",
       "  </thead>\n",
       "  <tbody>\n",
       "    <tr>\n",
       "      <th>0</th>\n",
       "      <td>55764.851078</td>\n",
       "      <td>8.818906</td>\n",
       "      <td>BMW</td>\n",
       "      <td>166.554774</td>\n",
       "      <td>1</td>\n",
       "      <td>2021-08-01</td>\n",
       "      <td>1622</td>\n",
       "    </tr>\n",
       "    <tr>\n",
       "      <th>1</th>\n",
       "      <td>53043.215667</td>\n",
       "      <td>6.230922</td>\n",
       "      <td>BMW</td>\n",
       "      <td>108.419204</td>\n",
       "      <td>1</td>\n",
       "      <td>2023-03-12</td>\n",
       "      <td>101</td>\n",
       "    </tr>\n",
       "    <tr>\n",
       "      <th>2</th>\n",
       "      <td>50782.476189</td>\n",
       "      <td>8.937179</td>\n",
       "      <td>Ford</td>\n",
       "      <td>171.856198</td>\n",
       "      <td>0</td>\n",
       "      <td>2022-01-20</td>\n",
       "      <td>3951</td>\n",
       "    </tr>\n",
       "    <tr>\n",
       "      <th>3</th>\n",
       "      <td>60632.893631</td>\n",
       "      <td>7.080065</td>\n",
       "      <td>Ford</td>\n",
       "      <td>136.408591</td>\n",
       "      <td>0</td>\n",
       "      <td>2021-12-18</td>\n",
       "      <td>397</td>\n",
       "    </tr>\n",
       "    <tr>\n",
       "      <th>4</th>\n",
       "      <td>11881.417885</td>\n",
       "      <td>0.698784</td>\n",
       "      <td>Toyota</td>\n",
       "      <td>147.636385</td>\n",
       "      <td>1</td>\n",
       "      <td>2021-02-22</td>\n",
       "      <td>4945</td>\n",
       "    </tr>\n",
       "  </tbody>\n",
       "</table>\n",
       "</div>"
      ],
      "text/plain": [
       "        Mileage       Age   Brand  Horsepower  Accidents_History  \\\n",
       "0  55764.851078  8.818906     BMW  166.554774                  1   \n",
       "1  53043.215667  6.230922     BMW  108.419204                  1   \n",
       "2  50782.476189  8.937179    Ford  171.856198                  0   \n",
       "3  60632.893631  7.080065    Ford  136.408591                  0   \n",
       "4  11881.417885  0.698784  Toyota  147.636385                  1   \n",
       "\n",
       "  Last_Service_Date    ID  \n",
       "0        2021-08-01  1622  \n",
       "1        2023-03-12   101  \n",
       "2        2022-01-20  3951  \n",
       "3        2021-12-18   397  \n",
       "4        2021-02-22  4945  "
      ]
     },
     "execution_count": 161,
     "metadata": {},
     "output_type": "execute_result"
    }
   ],
   "source": [
    "data_challenge_test.head()"
   ]
  },
  {
   "cell_type": "code",
   "execution_count": 145,
   "id": "3ace26e5-3eed-46b6-9017-3c52b16baf84",
   "metadata": {},
   "outputs": [],
   "source": [
    "\n",
    "df1 = data_challenge_test.copy()\n",
    "df1['Brand'].fillna('Unknown', inplace=True)\n",
    "df1['Last_Service_Date'].fillna('Unknown', inplace=True)\n",
    "df1['Age'].fillna(df1[\"Age\"].mean(), inplace=True)"
   ]
  },
  {
   "cell_type": "code",
   "execution_count": 146,
   "id": "dd05bb36-0d89-4e99-9333-ff64f0b1eeab",
   "metadata": {},
   "outputs": [],
   "source": [
    "# Convert object values to numeric values using LaberEncoder\n",
    "for col in df1.select_dtypes(include='object').columns:\n",
    "    label_encoder = LabelEncoder()\n",
    "    label_encoder.fit(df1[col].unique())\n",
    "    df1[col] = label_encoder.transform(df1[col])"
   ]
  },
  {
   "cell_type": "code",
   "execution_count": 147,
   "id": "5fbda3bd-067c-4228-9f55-43cadc3b24f5",
   "metadata": {},
   "outputs": [
    {
     "name": "stdout",
     "output_type": "stream",
     "text": [
      "<class 'pandas.core.frame.DataFrame'>\n",
      "RangeIndex: 2160 entries, 0 to 2159\n",
      "Data columns (total 7 columns):\n",
      " #   Column             Non-Null Count  Dtype  \n",
      "---  ------             --------------  -----  \n",
      " 0   Mileage            2160 non-null   float64\n",
      " 1   Age                2160 non-null   float64\n",
      " 2   Brand              2160 non-null   int64  \n",
      " 3   Horsepower         2160 non-null   float64\n",
      " 4   Accidents_History  2160 non-null   int64  \n",
      " 5   Last_Service_Date  2160 non-null   int64  \n",
      " 6   ID                 2160 non-null   int64  \n",
      "dtypes: float64(3), int64(4)\n",
      "memory usage: 118.2 KB\n"
     ]
    }
   ],
   "source": [
    "df1.info()"
   ]
  },
  {
   "cell_type": "code",
   "execution_count": 155,
   "id": "236cccdd-3320-463a-9d05-0d42143b2998",
   "metadata": {},
   "outputs": [],
   "source": [
    "df1 = df1.drop(\"ID\", axis=1)"
   ]
  },
  {
   "cell_type": "code",
   "execution_count": 156,
   "id": "5c894753-2230-44cf-96f0-199c8bc2a4cc",
   "metadata": {},
   "outputs": [
    {
     "data": {
      "text/plain": [
       "array([[ 0.39959728,  1.35074628, -1.04967561,  0.34575913,  0.74224866,\n",
       "        -0.7784393 ],\n",
       "       [ 0.258643  ,  0.43252587, -1.04967561, -0.5797832 ,  0.74224866,\n",
       "         1.00265301],\n",
       "       [ 0.14155864,  1.39270992, -0.26487142,  0.43015999, -0.70473429,\n",
       "        -0.27662361],\n",
       "       ...,\n",
       "       [-0.04536352, -0.04717591, -0.26487142, -0.47817043, -0.70473429,\n",
       "        -1.19897498],\n",
       "       [ 0.45150466,  0.54514107, -1.04967561,  1.32842947, -0.70473429,\n",
       "         1.07333127],\n",
       "       [ 1.06428719, -0.5254955 , -1.04967561, -0.34178886, -0.70473429,\n",
       "        -1.37920456]])"
      ]
     },
     "execution_count": 156,
     "metadata": {},
     "output_type": "execute_result"
    }
   ],
   "source": [
    "# Scalling the data \n",
    "standard = StandardScaler()\n",
    "X_1 = standard.fit_transform(df1)\n",
    "X_1"
   ]
  },
  {
   "cell_type": "code",
   "execution_count": 157,
   "id": "3f78a9e5-7612-4779-a0d4-1ef03ae9b9b3",
   "metadata": {},
   "outputs": [
    {
     "data": {
      "text/plain": [
       "(2160, 6)"
      ]
     },
     "execution_count": 157,
     "metadata": {},
     "output_type": "execute_result"
    }
   ],
   "source": [
    "X_1.shape"
   ]
  },
  {
   "cell_type": "code",
   "execution_count": 158,
   "id": "7b2aac52-bb15-4cb7-8561-84d83f07e543",
   "metadata": {},
   "outputs": [
    {
     "data": {
      "text/plain": [
       "array([  897.00608624, 10945.34398343, 15374.81850941, ...,\n",
       "       15356.12103593, 10384.65235059,  5284.94853319])"
      ]
     },
     "execution_count": 158,
     "metadata": {},
     "output_type": "execute_result"
    }
   ],
   "source": [
    "y_test = tree_model.predict(X_1)\n",
    "y_test"
   ]
  },
  {
   "cell_type": "code",
   "execution_count": 159,
   "id": "fde11421-060a-4cf5-9a38-f1111a171dc1",
   "metadata": {},
   "outputs": [
    {
     "data": {
      "text/html": [
       "<div>\n",
       "<style scoped>\n",
       "    .dataframe tbody tr th:only-of-type {\n",
       "        vertical-align: middle;\n",
       "    }\n",
       "\n",
       "    .dataframe tbody tr th {\n",
       "        vertical-align: top;\n",
       "    }\n",
       "\n",
       "    .dataframe thead th {\n",
       "        text-align: right;\n",
       "    }\n",
       "</style>\n",
       "<table border=\"1\" class=\"dataframe\">\n",
       "  <thead>\n",
       "    <tr style=\"text-align: right;\">\n",
       "      <th></th>\n",
       "      <th>Price_pred</th>\n",
       "    </tr>\n",
       "  </thead>\n",
       "  <tbody>\n",
       "    <tr>\n",
       "      <th>0</th>\n",
       "      <td>897.006086</td>\n",
       "    </tr>\n",
       "    <tr>\n",
       "      <th>1</th>\n",
       "      <td>10945.343983</td>\n",
       "    </tr>\n",
       "    <tr>\n",
       "      <th>2</th>\n",
       "      <td>15374.818509</td>\n",
       "    </tr>\n",
       "    <tr>\n",
       "      <th>3</th>\n",
       "      <td>9351.630194</td>\n",
       "    </tr>\n",
       "    <tr>\n",
       "      <th>4</th>\n",
       "      <td>24758.631125</td>\n",
       "    </tr>\n",
       "  </tbody>\n",
       "</table>\n",
       "</div>"
      ],
      "text/plain": [
       "     Price_pred\n",
       "0    897.006086\n",
       "1  10945.343983\n",
       "2  15374.818509\n",
       "3   9351.630194\n",
       "4  24758.631125"
      ]
     },
     "execution_count": 159,
     "metadata": {},
     "output_type": "execute_result"
    }
   ],
   "source": [
    "y_test_df = pd.DataFrame(y_test, columns=[\"Price_pred\"])\n",
    "y_test_df.head()"
   ]
  },
  {
   "cell_type": "code",
   "execution_count": 160,
   "id": "cba52b50-01b7-41c5-806a-1ebdc791a242",
   "metadata": {},
   "outputs": [],
   "source": [
    "y_test_df.to_csv(\"price_pred_Hoa_Linh.csv\", index=False)"
   ]
  },
  {
   "cell_type": "code",
   "execution_count": 119,
   "id": "c30caa9d-6e41-4dab-aabd-c5e2d435d5c3",
   "metadata": {},
   "outputs": [],
   "source": [
    "model_SGD = SGDRegressor()\n",
    "model_SGD.fit(X_train, y_train)\n",
    "y_pred_sgd = model_SGD.predict(X_test)\n"
   ]
  },
  {
   "cell_type": "code",
   "execution_count": 139,
   "id": "0e1a7ff6-4e96-4964-9f30-981ea14ef6af",
   "metadata": {},
   "outputs": [
    {
     "data": {
      "text/plain": [
       "array([17079.99296099, 19368.06883456, 21466.54440853,  7135.12536177,\n",
       "       23123.7470353 , 20838.07380219, 12656.25607588, 10266.8857288 ,\n",
       "       12682.96818516, 24953.27080197,  5492.14195206, 12091.49096445,\n",
       "       10763.38009056, 14719.98550001, 10594.70931603, 22417.85046572,\n",
       "       16454.81775455,  5381.09854909, 37108.85679351, 15090.04513353,\n",
       "        8065.55721702,  8736.15871115, 13687.01269593, 11050.10027648,\n",
       "       24913.83963674,  3672.24009651, 21819.19965541, 19791.73349585,\n",
       "       10010.84083309, 16675.32272836, 12646.21564885, 11490.47629624,\n",
       "       11106.58620567,  8590.85091275,  9334.7780701 , 20001.10851143,\n",
       "       11897.78884516, 27512.88830896,  9966.20965502, 25117.10090511,\n",
       "       17181.40186409,  8416.0883942 , 10267.55365688, 12911.58527981,\n",
       "       23900.48362866, 18451.36736442, 19342.00713395, 27060.97746966,\n",
       "       17192.81245624, 12668.32913459, 14840.12688003, 17395.13171467,\n",
       "       12251.0215926 ,  5069.65779012, 10447.19854213, 15461.74879959,\n",
       "       10565.77954891, 16557.79016338,  8200.39169656,  7789.28319958,\n",
       "        6027.54080134, 12977.47286116, 18160.52276459, 18806.94751605,\n",
       "        5625.73189866, -9519.2049344 , 24150.09476946,  8391.19025997,\n",
       "        8486.37803354,  5536.06397211,    95.88478929, 20101.24771908,\n",
       "       16848.15085504, 15217.22500295, 14700.03131648, 12002.46197688,\n",
       "       14876.92836548,  7552.4768954 , 16933.30361059, 17017.39742714,\n",
       "       13809.23667475,  1151.12345441, 29910.27420087, 15652.48099585,\n",
       "       18921.68116525, 10275.43347459, 21095.80050536,  8114.48165029,\n",
       "       14975.81854675, 14954.92235356, 15139.76699184, 10227.00671984,\n",
       "       25691.91277702, 19011.03998245,  7326.11824914, 19184.86561422,\n",
       "       10119.07447039, 14591.93915088,  8967.53910458,  8895.22510314,\n",
       "       13977.58671902, 10021.08702099, 18155.14387778, 17537.58209742,\n",
       "       14184.77528728,  5797.82779299, 23082.60369662, 15777.16153166,\n",
       "       15022.70390978, 20102.6019644 , 19597.68726676, 10668.20176936,\n",
       "       16543.99871292,  6922.7973498 , 13702.44901126, 10364.18832074,\n",
       "       24308.96084593, 13580.84420583, 12281.52799419, 23786.89134531,\n",
       "       16692.86423889, 12915.17402953, 11550.0583554 , 17887.90005791,\n",
       "       21653.94085275, 10672.83710589,  9953.10718956, 19126.5800699 ,\n",
       "       10911.22609395, 17321.55072099, 66233.23016146, 26466.23092173,\n",
       "       17790.62948843, 20314.15497013, 28832.62523188, 15213.61170484,\n",
       "       13171.74289728, 13172.52650771, 15698.3355082 , 10875.36300308,\n",
       "       10352.55815261, 11667.10743305, 19066.49964942, 13590.0822364 ,\n",
       "       18572.36852383, 16321.12084481, 16196.39424493,  9479.23316141,\n",
       "       16294.83631109, 12835.1085362 , 19738.28646511, 19049.09543717,\n",
       "       14438.11768393, 15094.55547206,  8289.18405063, 11362.18113844,\n",
       "       17188.2359695 , 19102.28993561, 11765.46359258, 18114.13345787,\n",
       "       27167.85673086, 21894.336869  , 20025.63489347, 25800.63664482,\n",
       "       18557.06429383, 20400.99389246, 18069.14580856, 14343.92828911,\n",
       "       16812.54040336, 16863.30623531, 12414.35871704, 19718.64858529,\n",
       "       20318.24272495,  9484.82695759, 15439.87780786,  9094.73044391,\n",
       "       18992.96034813, 12664.91601534, 20807.11421009,  8424.66429131,\n",
       "       18164.47030231,  8807.71766018, -3023.41431729, 13069.83268285,\n",
       "       54770.87248261, 10001.32368727, 21739.32968972, 13145.77933587,\n",
       "       17748.87194613, 22558.95255591, 18762.42445388, 19204.02608082,\n",
       "       19170.35462828, 21726.21442897, 10943.706572  , 11816.42317132,\n",
       "        1313.26341422, 10605.80166043, 67467.22814498,  8844.44321354,\n",
       "       11874.36839276, 19342.00713395,  8155.64596253, 13913.22293506,\n",
       "        7824.38492958,  7506.47467369,  7312.76934271, 11184.02666841,\n",
       "       19540.91386987, 12833.36967226, 27286.07265521, 10697.01765584,\n",
       "       11679.84922919, 17874.01319427, 19652.31930349, 23662.99790122,\n",
       "        8662.1476923 , 16074.72917061,  5576.5530209 , 21095.16278412,\n",
       "       13975.62012071,  8458.76868883, 17404.42944682, 14515.01152941,\n",
       "       19524.33220607, 18709.68893539, -1001.49876373, 12811.85550079,\n",
       "       18261.99035846, 21665.60262266,  7773.57358381, 13429.60823952,\n",
       "       13260.43539417, 17719.70326264, 29647.68502266, 15876.75121061,\n",
       "        8832.35645561, 18668.43734845,  5370.68818603,  7601.70651768,\n",
       "       20215.12377072, 16505.49725471, 13711.0373466 , 10737.91179276,\n",
       "       16641.96434055, 15939.70165598, 17064.29866249, 11887.70860745,\n",
       "       22542.08059286, 22900.49944098, 17910.48491925, 15635.29168904,\n",
       "       10638.20862401, 10690.4359733 ,  5713.67991187, 17254.5372562 ,\n",
       "       18099.00119958, 20969.29617731,  9225.2154464 , 17286.18914821,\n",
       "       17430.29541183, 25775.9197788 , 10641.89665783, 14237.83397319,\n",
       "       19072.53802118, 15084.60564981, 15961.03894837, 14185.87929212,\n",
       "       19191.23517315, 25963.44605294, 15141.2430988 , 17696.02402983,\n",
       "       22350.35176948, 17278.16901355, 23033.68945083, 20062.58500717,\n",
       "       18648.03760917,  6846.15412772,  6446.85555457,  9877.92964374,\n",
       "       13449.53927407, 26704.24507006, 20250.72697551, 13265.6599093 ,\n",
       "       12735.51063678,  2178.86813999, 13805.67555253, 16455.09802529,\n",
       "       15748.1347212 , 16158.40706182, 17978.80046644,  8016.3996396 ,\n",
       "       18847.94236962, 31876.23419407, 11853.64953954, 25889.61888505,\n",
       "        9803.00576415, 20935.49487945,  8866.75976885, 31969.47482783,\n",
       "       21124.58039587, 16428.55545729, 17487.75486406, 24183.50850435,\n",
       "       21901.21883356, 18670.86283973, 12247.32683586, 16743.81539023,\n",
       "       13165.85434063,  -973.63403279,  7867.59561719,  5989.38566291,\n",
       "       18180.38286345, 10421.88180078, 23734.80227737, 29023.00116981,\n",
       "       10161.38402783,  2072.65876845, 11997.65876893, 19338.41048388,\n",
       "        3760.87167147,  6527.64353234, 18138.65667026, 19866.58424683,\n",
       "       19620.67361366,  6818.86368536, 23384.15180839, 29816.44436708,\n",
       "       16652.87977956, 23208.37242986, 12473.19292979, 11311.07875934,\n",
       "       15065.7720066 , 14321.40742455, 17447.24363077, 15991.42009018,\n",
       "       11424.79194896,  4497.3279111 ,  7288.84173959, 24753.74688645,\n",
       "        7755.17533103, 19347.64628197, 11837.50293883,  7316.86624593,\n",
       "       12087.16799934,  3735.65341094, 13554.54675512, 25434.0312008 ,\n",
       "       12458.66929521,  3175.95983339, 15281.330806  , 15314.68686138,\n",
       "       16719.46465329, 12355.40757774, 15485.50678981,  6318.54111989,\n",
       "        6191.97594397, 16317.10226363,  5299.19679326,  7304.79914679,\n",
       "       15629.2752968 , 21039.61192351,  8932.70323312, 25111.04590518,\n",
       "       10522.38825844,  9482.36408396, 19098.91974703, 20691.9658752 ,\n",
       "        9294.79782522, 12147.29322414, 17981.70016992, 20526.29014885,\n",
       "       18704.63912996, 21882.61610201, 17003.13469922, 16189.61349619,\n",
       "       13510.34457027, 20055.84261222, 30959.50944491,   336.04166614,\n",
       "       19825.33799978, 13829.36654442, 62394.73133432, 10633.00110286,\n",
       "       16343.38252136, 10550.20246927,   783.940845  , 21165.96864774,\n",
       "       17432.69295273, 12669.02475378, 20336.48692764, 17858.24438491,\n",
       "       20834.3919595 , 23129.69711887, 18692.3286539 , 11164.89134922,\n",
       "       16528.61835211,  8539.69372639, 18476.43355604,  6736.18441521,\n",
       "       22594.81029938, 23923.59868375, 19760.28993565, 22295.89021606,\n",
       "       60061.419875  , 17655.9423695 , 12263.54745633, 11828.10575791,\n",
       "       16501.01477341, 21658.51950705, 22232.87557954, 18785.57685743,\n",
       "       20375.19403178, 14467.97144608, 21420.45609653,  1607.87325002,\n",
       "       13383.30013994, 10866.85391839, 28276.12866091, 17595.40709842,\n",
       "        -624.79770892, 11105.00883942, 13639.0433316 , 25653.55842087,\n",
       "       11695.95026097, 22966.87008537,  8407.07760629, 11158.55467613,\n",
       "       14490.70638867, 15463.61394262, 16218.43611008, 13601.48790713,\n",
       "        8433.47502164,  -224.07182714, 12331.32580244, 26944.98989955,\n",
       "       19092.26269495,  6225.06240273, 23472.81106168, 22375.22857552,\n",
       "       15407.51660774, 13679.40438862, 10373.98251282, 17813.61578078,\n",
       "       32469.11196097, 18066.06485833, 13164.20102115, 16108.42833886,\n",
       "       12212.34558863, 20763.05215206, 16858.63966313,  1232.6931163 ,\n",
       "       21328.64437316, 19576.46748881, 16805.44472434, 10223.51461938,\n",
       "       17961.87901732, 12701.90081075, 21864.43652505, 10812.58908296,\n",
       "        3491.89738619, 21336.50815263, 13153.43322912, 25522.24296884,\n",
       "       24867.11782802,  5941.96011795, 19344.82620877, 15635.86736426,\n",
       "       19751.85730685,  8009.54976891, 10590.95856653, 14849.49852493,\n",
       "       68322.1924232 , 14273.32145968, 20167.52550815, 17739.90842198,\n",
       "       18717.49371277, 20676.83668306, 12754.68794482, 12204.81803804,\n",
       "       21383.98651104, 15797.21186933, 28053.92885618, 23196.59634227,\n",
       "       13818.99033213,  9868.31386609, 11189.1490648 , 13730.39624632,\n",
       "       71086.25946743,  9336.33870389, 13009.88238931,  6019.12493615,\n",
       "       71347.66893594, 13047.12897337, 19103.22076674,  7905.82442781,\n",
       "       12287.77131232,  9132.11661069, 18452.92310253, 12324.49269656,\n",
       "        9514.72121936,  8909.64862381, 24737.1079964 , 17563.99689606,\n",
       "       22328.6501989 , 20393.54624128, 12965.94775597, 17453.54399859,\n",
       "       20000.15931472, 20625.92796108, 15396.65721735, 16019.00684547,\n",
       "        5548.32155875, 14456.9693659 , 18680.10836453, 13539.33592849,\n",
       "       20545.59311842, 69005.08872359,  9340.03585807,  6074.13748507,\n",
       "       12197.02264358, 19097.02433852, 28518.01135408, 18214.65315361,\n",
       "        7952.77200287, 15820.13275599, 14767.7513063 , 27496.22762825,\n",
       "        9329.18409112, 17177.80241408, 18084.80291271, 18214.80190867,\n",
       "       13769.04598102, 13118.75530532, 10280.08141613, 19584.28641059,\n",
       "       11684.78201578, 11767.05348929, 18078.32172953, 12848.16933195,\n",
       "       13638.65252836,  9371.75121063, 17330.20455105, 15474.44692631,\n",
       "       26085.62881531,  4974.29869984, 71196.79653017, 22868.49453573,\n",
       "        6526.47707661, 25698.01406217, 14057.86793899,  5479.23287527,\n",
       "       12892.77738744, 14026.37265073, 16867.77924751, 24626.47732372,\n",
       "        8743.13566563,  8006.14574517, 15555.05532583,  9135.57077061,\n",
       "       19085.74833883, 23602.85881755, 21606.59643225,  1531.93954384,\n",
       "       20962.48385601, 10311.01927431, 16087.13018342, 13502.19422534,\n",
       "        9903.57928512, 10111.01870529, 12307.7943321 , 11243.72378994,\n",
       "       17398.24021015, 14863.47226564, 10378.14295833,  6831.28523722,\n",
       "       16254.99505769, 13965.55336939, 18966.22043074, 15011.64680332,\n",
       "       14639.36982647, 25094.19981552, 72339.87792693, 12333.3840376 ,\n",
       "       24391.19744953, 18663.39326921, 10116.5514755 , 17254.82420707,\n",
       "       10721.70258308,  3826.98656586, 26016.08820688,  6463.65437468,\n",
       "       20338.44275497, 13014.7439407 , 16559.79003222, 14062.59146682,\n",
       "       17282.43877936, 14140.83492984, 15756.47475495,  8088.63934764,\n",
       "        3200.867615  , 12283.38565588,  4268.57821565, 16080.43701348,\n",
       "       14570.84100855, 10483.03095225, 19197.37210558, 22079.21753958,\n",
       "       22386.62396826, 18278.06685789,  8282.80488799,  7267.95696396,\n",
       "       20144.19945996,  6842.07044823, 15838.2605664 , 19598.31749608,\n",
       "       11046.96695342, 18044.03095825, 28862.31247374, 19380.82288413,\n",
       "       67682.79746545,  8661.49521773,  9887.08329691, 17199.14155431,\n",
       "        6755.97992265, 15375.6730406 ,   604.57195197, 13685.28619787,\n",
       "        9325.73944266, 15160.08150685, 18834.75575065, 14165.47592019,\n",
       "       24911.46792072, 24428.7631816 ,  6457.63276099, 25008.80514819,\n",
       "       19729.81723866, 10430.59624125,  2478.14918094, 25237.13709949,\n",
       "       17064.20675567, 25964.6798518 , 13209.37596899, 17995.00146577,\n",
       "       15262.82336662, 10252.45468763, 14009.15881238, 19595.04900316,\n",
       "       62351.92415297, 11309.70949851, 12375.27571945, 20235.19788389,\n",
       "       17790.16007075, 12552.05935632, 24823.96650959, 25069.4439596 ,\n",
       "        8689.02317469, 18805.8830127 , 69025.65049768, 14531.15658432])"
      ]
     },
     "execution_count": 139,
     "metadata": {},
     "output_type": "execute_result"
    }
   ],
   "source": [
    "y_pred_sgd"
   ]
  },
  {
   "cell_type": "code",
   "execution_count": 128,
   "id": "753ebb13-d419-4350-b5b3-b713a4b1320c",
   "metadata": {},
   "outputs": [
    {
     "data": {
      "text/plain": [
       "0.7178373412479805"
      ]
     },
     "execution_count": 128,
     "metadata": {},
     "output_type": "execute_result"
    }
   ],
   "source": [
    "r2_score(y_pred_sgd, y_test_1)"
   ]
  },
  {
   "cell_type": "code",
   "execution_count": 129,
   "id": "0ae56fca-9c8b-4c80-b8fc-2a58aeffa81a",
   "metadata": {},
   "outputs": [
    {
     "data": {
      "text/plain": [
       "3699.427556831738"
      ]
     },
     "execution_count": 129,
     "metadata": {},
     "output_type": "execute_result"
    }
   ],
   "source": [
    "mean_absolute_error(y_pred_sgd, y_test_1)"
   ]
  },
  {
   "cell_type": "code",
   "execution_count": 138,
   "id": "fa35cb15-3419-4451-ab79-9dd8c2d78ca1",
   "metadata": {},
   "outputs": [
    {
     "data": {
      "text/plain": [
       "array([-4.08258377e+08, -3.87404978e+08, -3.71611464e+08, ...,\n",
       "       -3.45370378e+08, -4.15045078e+08, -5.02254122e+08])"
      ]
     },
     "execution_count": 138,
     "metadata": {},
     "output_type": "execute_result"
    }
   ],
   "source": [
    "model_SGD.predict(df1.values)\n"
   ]
  }
 ],
 "metadata": {
  "kernelspec": {
   "display_name": "Python 3 (ipykernel)",
   "language": "python",
   "name": "python3"
  },
  "language_info": {
   "codemirror_mode": {
    "name": "ipython",
    "version": 3
   },
   "file_extension": ".py",
   "mimetype": "text/x-python",
   "name": "python",
   "nbconvert_exporter": "python",
   "pygments_lexer": "ipython3",
   "version": "3.10.5"
  }
 },
 "nbformat": 4,
 "nbformat_minor": 5
}
