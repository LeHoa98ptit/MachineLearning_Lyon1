{
 "cells": [
  {
   "cell_type": "code",
   "execution_count": 8,
   "id": "037027b3-786f-4459-ab8a-9e244cc414b3",
   "metadata": {},
   "outputs": [],
   "source": [
    "import torch\n",
    "import torch.nn as nn\n",
    "import torch.nn.functional as F\n"
   ]
  },
  {
   "cell_type": "markdown",
   "id": "a983cdac-be65-4f7d-a6d1-0025df337e53",
   "metadata": {},
   "source": [
    "### The Positional Encoding\n",
    "\n",
    "Contrary to RNNs, all words in a sequence are input in parallel. This means that the model needs to know the position *where* the words are in the input sequence."
   ]
  },
  {
   "cell_type": "code",
   "execution_count": 21,
   "id": "e085b5ec-3586-48d8-87d0-2719484ad1b4",
   "metadata": {},
   "outputs": [],
   "source": [
    "class PositionalEncoding(nn.Module):\n",
    "    \"\"\"\n",
    "        - max_len: Maximum length of the sequence.\n",
    "        - embed_size: Dimensionality of the positional encoding vectors.\n",
    "    \"\"\"\n",
    "    \n",
    "    def __init__(self, max_len, embed_size):\n",
    "        super(PositionalEncoding, self).__init__()\n",
    "        self.encoding = torch.zeros(max_len, embed_size)\n",
    "        position = torch.arange(0, max_len).unsqueeze(1).float()\n",
    "        # A tensor representing the exponential term used in the positional encoding formula\n",
    "        div_term = torch.exp(torch.arange(0, embed_size, 2).float() * -(math.log(10000.0) / embed_size))\n",
    "        self.encoding[:, 0::2] = torch.sin(position * div_term)\n",
    "        self.encoding[:, 1::2] = torch.cos(position * div_term)\n",
    "        self.encoding = self.encoding.unsqueeze(0)\n",
    "\n",
    "    def forward(self, x):\n",
    "        return x + self.encoding[:, :x.size(1)].detach()\n"
   ]
  },
  {
   "cell_type": "code",
   "execution_count": 22,
   "id": "b5c771e3-bc08-4437-9388-b33b49e64985",
   "metadata": {},
   "outputs": [],
   "source": [
    "class TransformerBlock(nn.Module):\n",
    "    def __init__(self, embed_size, heads):\n",
    "        super(TransformerBlock, self).__init__()\n",
    "        self.attention = nn.MultiheadAttention(embed_size, heads)\n",
    "        self.norm1 = nn.LayerNorm(embed_size)\n",
    "        self.norm2 = nn.LayerNorm(embed_size)\n",
    "        self.feed_forward = nn.Sequential(\n",
    "            nn.Linear(embed_size, 4 * embed_size),\n",
    "            nn.ReLU(),\n",
    "            nn.Linear(4 * embed_size, embed_size)\n",
    "        )\n",
    "\n",
    "    def forward(self, x, mask):\n",
    "        attention_output, _ = self.attention(x, x, x, mask)\n",
    "        x = self.norm1(x + attention_output)\n",
    "        feed_forward_output = self.feed_forward(x)\n",
    "        out = self.norm2(x + feed_forward_output)\n",
    "        return out\n"
   ]
  },
  {
   "cell_type": "code",
   "execution_count": 23,
   "id": "5be3bf0d-a47e-4a0e-be40-4c9bb3a30fd9",
   "metadata": {},
   "outputs": [],
   "source": [
    "class Transformer(nn.Module):\n",
    "    def __init__(self, vocab_size, embed_size, heads, num_layers):\n",
    "        super(Transformer, self).__init__()\n",
    "        self.embedding = nn.Embedding(vocab_size, embed_size)\n",
    "        self.positional_encoding = PositionalEncoding(max_len=1000, embed_size=embed_size)\n",
    "        self.transformer_blocks = nn.ModuleList([\n",
    "            TransformerBlock(embed_size, heads) for _ in range(num_layers)\n",
    "        ])\n",
    "        self.fc_out = nn.Linear(embed_size, vocab_size)\n",
    "\n",
    "    def forward(self, x):\n",
    "        x = self.embedding(x)\n",
    "        x = self.positional_encoding(x)\n",
    "        \n",
    "        mask = self.generate_square_subsequent_mask(x.size(1)).to(x.device)\n",
    "        \n",
    "        for transformer_block in self.transformer_blocks:\n",
    "            x = transformer_block(x, mask)\n",
    "\n",
    "        x = self.fc_out(x)\n",
    "        return x\n",
    "\n",
    "    def generate_square_subsequent_mask(self, sz):\n",
    "        mask = (torch.triu(torch.ones(sz, sz)) == 1).transpose(0, 1)\n",
    "        mask = mask.float().masked_fill(mask == 0, float('-inf')).masked_fill(mask == 1, float(0.0))\n",
    "        return mask\n"
   ]
  },
  {
   "cell_type": "code",
   "execution_count": 25,
   "id": "de7896dc-9902-44f9-be37-3320d7a96ea6",
   "metadata": {},
   "outputs": [
    {
     "name": "stdout",
     "output_type": "stream",
     "text": [
      "torch.Size([10, 10, 1000])\n"
     ]
    }
   ],
   "source": [
    "# Example usage:\n",
    "vocab_size = 1000  # adjust based on your vocabulary size\n",
    "embed_size = 512\n",
    "heads = 8\n",
    "num_layers = 6\n",
    "\n",
    "model = Transformer(vocab_size, embed_size, heads, num_layers)\n",
    "\n",
    "# Create a random input tensor for testing\n",
    "input_tensor = torch.randint(0, vocab_size, (10, 10))  # Batch size of 32, sequence length of 10\n",
    "\n",
    "# Forward pass\n",
    "output = model(input_tensor)\n",
    "print(output.shape)\n"
   ]
  },
  {
   "cell_type": "code",
   "execution_count": null,
   "id": "c9619b93-1ce1-40ab-acc8-ecec2f3de09f",
   "metadata": {},
   "outputs": [],
   "source": []
  }
 ],
 "metadata": {
  "kernelspec": {
   "display_name": "Python 3 (ipykernel)",
   "language": "python",
   "name": "python3"
  },
  "language_info": {
   "codemirror_mode": {
    "name": "ipython",
    "version": 3
   },
   "file_extension": ".py",
   "mimetype": "text/x-python",
   "name": "python",
   "nbconvert_exporter": "python",
   "pygments_lexer": "ipython3",
   "version": "3.10.5"
  }
 },
 "nbformat": 4,
 "nbformat_minor": 5
}
